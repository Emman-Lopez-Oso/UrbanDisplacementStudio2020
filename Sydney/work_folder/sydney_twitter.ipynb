{
 "cells": [
  {
   "cell_type": "code",
   "execution_count": 5,
   "metadata": {},
   "outputs": [
    {
     "name": "stdout",
     "output_type": "stream",
     "text": [
      "Wall time: 2.05 s\n"
     ]
    }
   ],
   "source": [
    "%%time\n",
    "import pandas as pd\n",
    "import matplotlib.pyplot as plt\n",
    "from scipy import stats\n",
    "import subprocess\n",
    "from pathlib import Path\n",
    "import csv\n",
    "import sqlalchemy\n",
    "from sqlalchemy.ext.automap import automap_base\n",
    "from sqlalchemy.orm import Session\n",
    "import xlrd\n",
    "import numpy as np\n",
    "from io import StringIO\n",
    "from sqlalchemy import create_engine\n",
    "from sqlalchemy.ext.declarative import declarative_base\n",
    "from sqlalchemy import Column, Integer, String, Numeric\n",
    "from sqlalchemy.orm import sessionmaker\n",
    "import dask.dataframe as das\n",
    "import sqlite3\n",
    "import datetime"
   ]
  },
  {
   "cell_type": "code",
   "execution_count": 6,
   "metadata": {},
   "outputs": [
    {
     "data": {
      "text/plain": [
       "'C:\\\\Users\\\\emman\\\\Documents\\\\git\\\\UrbanDisplacementStudio2020\\\\Sydney\\\\work_folder'"
      ]
     },
     "execution_count": 6,
     "metadata": {},
     "output_type": "execute_result"
    }
   ],
   "source": [
    "pwd"
   ]
  },
  {
   "cell_type": "code",
   "execution_count": 3,
   "metadata": {},
   "outputs": [],
   "source": [
    "#read in the twitter data in box\n",
    "\n",
    "au_twitter = pd.read_csv('C:\\\\Users\\\\emman\\\\box\\\\Twitter data\\\\Asia\\\\Sydney\\\\sydney.csv')"
   ]
  },
  {
   "cell_type": "code",
   "execution_count": 4,
   "metadata": {},
   "outputs": [
    {
     "data": {
      "text/html": [
       "<div>\n",
       "<style scoped>\n",
       "    .dataframe tbody tr th:only-of-type {\n",
       "        vertical-align: middle;\n",
       "    }\n",
       "\n",
       "    .dataframe tbody tr th {\n",
       "        vertical-align: top;\n",
       "    }\n",
       "\n",
       "    .dataframe thead th {\n",
       "        text-align: right;\n",
       "    }\n",
       "</style>\n",
       "<table border=\"1\" class=\"dataframe\">\n",
       "  <thead>\n",
       "    <tr style=\"text-align: right;\">\n",
       "      <th></th>\n",
       "      <th>id</th>\n",
       "      <th>created_at</th>\n",
       "      <th>text</th>\n",
       "      <th>u_id</th>\n",
       "      <th>u_name</th>\n",
       "      <th>u_created_at</th>\n",
       "      <th>u_description</th>\n",
       "      <th>u_followers_count</th>\n",
       "      <th>type</th>\n",
       "      <th>c_country</th>\n",
       "      <th>u_screen_name</th>\n",
       "      <th>u_friends_count</th>\n",
       "      <th>location.lon</th>\n",
       "      <th>location.lat</th>\n",
       "    </tr>\n",
       "  </thead>\n",
       "  <tbody>\n",
       "    <tr>\n",
       "      <th>0</th>\n",
       "      <td>227410653344841728</td>\n",
       "      <td>1.343054e+12</td>\n",
       "      <td>@DaintyAintMe one hyphenated word for you my l...</td>\n",
       "      <td>421108959</td>\n",
       "      <td>jcaldwellau</td>\n",
       "      <td>1.322231e+12</td>\n",
       "      <td>• Lascivious • Serial Flirt • Daring • Music l...</td>\n",
       "      <td>3877</td>\n",
       "      <td>ll</td>\n",
       "      <td>AUS</td>\n",
       "      <td>JCaldwellAu</td>\n",
       "      <td>339</td>\n",
       "      <td>151.219627</td>\n",
       "      <td>-33.878069</td>\n",
       "    </tr>\n",
       "    <tr>\n",
       "      <th>1</th>\n",
       "      <td>227395003947810817</td>\n",
       "      <td>1.343050e+12</td>\n",
       "      <td>Optus在strathfield附近的基站是不是出故障了，各种network lost...</td>\n",
       "      <td>22230298</td>\n",
       "      <td>McKay Wei </td>\n",
       "      <td>1.235797e+12</td>\n",
       "      <td>I make things on the web. #SocialMediaEnthusia...</td>\n",
       "      <td>1023</td>\n",
       "      <td>ll</td>\n",
       "      <td>AUS</td>\n",
       "      <td>McKayWei</td>\n",
       "      <td>850</td>\n",
       "      <td>151.089056</td>\n",
       "      <td>-33.869059</td>\n",
       "    </tr>\n",
       "    <tr>\n",
       "      <th>2</th>\n",
       "      <td>227395554844483584</td>\n",
       "      <td>1.343050e+12</td>\n",
       "      <td>@heyfeebs nah it was at 2am... and hopefully n...</td>\n",
       "      <td>26226128</td>\n",
       "      <td>Daniel Baluyot</td>\n",
       "      <td>1.237898e+12</td>\n",
       "      <td>17 year old Filipino, I'm a Sydneysider. I'll ...</td>\n",
       "      <td>148</td>\n",
       "      <td>ll</td>\n",
       "      <td>AUS</td>\n",
       "      <td>jhimdaniel</td>\n",
       "      <td>152</td>\n",
       "      <td>150.947871</td>\n",
       "      <td>-33.798275</td>\n",
       "    </tr>\n",
       "    <tr>\n",
       "      <th>3</th>\n",
       "      <td>227397391727333376</td>\n",
       "      <td>1.343051e+12</td>\n",
       "      <td>@JUSECALO @AndreaSernaRCN si el apuntador dict...</td>\n",
       "      <td>149103289</td>\n",
       "      <td>Menchita</td>\n",
       "      <td>1.275050e+12</td>\n",
       "      <td>Colombiana 100% paisa. Amo el cine, la buena c...</td>\n",
       "      <td>16</td>\n",
       "      <td>ll</td>\n",
       "      <td>AUS</td>\n",
       "      <td>Guizmito</td>\n",
       "      <td>91</td>\n",
       "      <td>151.178006</td>\n",
       "      <td>-33.809274</td>\n",
       "    </tr>\n",
       "    <tr>\n",
       "      <th>4</th>\n",
       "      <td>227398082562768896</td>\n",
       "      <td>1.343051e+12</td>\n",
       "      <td>@nichteo1995 cause we didnt meet before I leav...</td>\n",
       "      <td>464020712</td>\n",
       "      <td>Julia</td>\n",
       "      <td>1.326568e+12</td>\n",
       "      <td>Done trusting people.</td>\n",
       "      <td>69</td>\n",
       "      <td>ll</td>\n",
       "      <td>AUS</td>\n",
       "      <td>justjuliac</td>\n",
       "      <td>68</td>\n",
       "      <td>151.222993</td>\n",
       "      <td>-33.912209</td>\n",
       "    </tr>\n",
       "  </tbody>\n",
       "</table>\n",
       "</div>"
      ],
      "text/plain": [
       "                   id    created_at  \\\n",
       "0  227410653344841728  1.343054e+12   \n",
       "1  227395003947810817  1.343050e+12   \n",
       "2  227395554844483584  1.343050e+12   \n",
       "3  227397391727333376  1.343051e+12   \n",
       "4  227398082562768896  1.343051e+12   \n",
       "\n",
       "                                                text       u_id  \\\n",
       "0  @DaintyAintMe one hyphenated word for you my l...  421108959   \n",
       "1    Optus在strathfield附近的基站是不是出故障了，各种network lost...   22230298   \n",
       "2  @heyfeebs nah it was at 2am... and hopefully n...   26226128   \n",
       "3  @JUSECALO @AndreaSernaRCN si el apuntador dict...  149103289   \n",
       "4  @nichteo1995 cause we didnt meet before I leav...  464020712   \n",
       "\n",
       "           u_name  u_created_at  \\\n",
       "0     jcaldwellau  1.322231e+12   \n",
       "1     McKay Wei   1.235797e+12   \n",
       "2  Daniel Baluyot  1.237898e+12   \n",
       "3        Menchita  1.275050e+12   \n",
       "4           Julia  1.326568e+12   \n",
       "\n",
       "                                       u_description  u_followers_count type  \\\n",
       "0  • Lascivious • Serial Flirt • Daring • Music l...               3877   ll   \n",
       "1  I make things on the web. #SocialMediaEnthusia...               1023   ll   \n",
       "2  17 year old Filipino, I'm a Sydneysider. I'll ...                148   ll   \n",
       "3  Colombiana 100% paisa. Amo el cine, la buena c...                 16   ll   \n",
       "4                             Done trusting people.                  69   ll   \n",
       "\n",
       "  c_country u_screen_name  u_friends_count  location.lon  location.lat  \n",
       "0       AUS   JCaldwellAu              339    151.219627    -33.878069  \n",
       "1       AUS      McKayWei              850    151.089056    -33.869059  \n",
       "2       AUS    jhimdaniel              152    150.947871    -33.798275  \n",
       "3       AUS      Guizmito               91    151.178006    -33.809274  \n",
       "4       AUS    justjuliac               68    151.222993    -33.912209  "
      ]
     },
     "execution_count": 4,
     "metadata": {},
     "output_type": "execute_result"
    }
   ],
   "source": [
    "au_twitter.head()"
   ]
  },
  {
   "cell_type": "markdown",
   "metadata": {},
   "source": [
    "Based on what I'm seeing from the `Yurika_twitter_analysis_10_11.ipynb` notebook, they were able to give each tweet a certain geographical boundary, which I'm assuming was done by assigning lat/long within a certain range a specific census tract. I have the shapefiles for a particular boundary in Sydney, so maybe we can use that?"
   ]
  },
  {
   "cell_type": "code",
   "execution_count": null,
   "metadata": {},
   "outputs": [],
   "source": []
  }
 ],
 "metadata": {
  "kernelspec": {
   "display_name": "Python 3",
   "language": "python",
   "name": "python3"
  },
  "language_info": {
   "codemirror_mode": {
    "name": "ipython",
    "version": 3
   },
   "file_extension": ".py",
   "mimetype": "text/x-python",
   "name": "python",
   "nbconvert_exporter": "python",
   "pygments_lexer": "ipython3",
   "version": "3.7.3"
  }
 },
 "nbformat": 4,
 "nbformat_minor": 2
}
