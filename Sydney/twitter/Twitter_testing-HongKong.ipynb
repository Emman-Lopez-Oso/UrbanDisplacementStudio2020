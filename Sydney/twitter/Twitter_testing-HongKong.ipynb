{
 "cells": [
  {
   "cell_type": "code",
   "execution_count": 1,
   "metadata": {},
   "outputs": [
    {
     "name": "stdout",
     "output_type": "stream",
     "text": [
      "Wall time: 918 ms\n"
     ]
    }
   ],
   "source": [
    "%%time\n",
    "import pandas as pd\n",
    "pd.set_option('display.max_rows', 500)\n",
    "pd.set_option('display.max_columns', 500)\n",
    "import geopandas as gpd\n",
    "import matplotlib.pyplot as plt\n",
    "import numpy as np\n",
    "from shapely.ops import transform\n",
    "\n",
    "from shapely.geometry import Point, Polygon\n",
    "import datetime\n",
    "\n",
    "from io import StringIO\n",
    "from pathlib import Path, PureWindowsPath\n",
    "import os\n",
    "import sys\n",
    "from functools import partial\n",
    "\n",
    "# Import custom functions from `scripts` folder\n",
    "module_path = os.path.abspath(os.path.join('..'))\n",
    "if module_path not in sys.path:\n",
    "    sys.path.append(module_path)\n",
    "from scripts.clean_tweets import geometrize_tweets, convert_shapefile_crs, find_frequencies\n",
    "from scripts.home_location import assign_home_location\n",
    "from scripts.summary_stats import summary_stats\n",
    "\n",
    "data_path = Path(\"C:/Users/emman/Box/Twitter data/Hong Kong/\")"
   ]
  },
  {
   "cell_type": "code",
   "execution_count": 2,
   "metadata": {},
   "outputs": [],
   "source": [
    "def filter_and_home_assign(data, shapefile, lower, upper):\n",
    "    \"\"\"\n",
    "    Find subset of data to analyze based on lower/upper bounds on tweets/user, \n",
    "    then add home locations.\n",
    "    \n",
    "    Parameters\n",
    "    ----------\n",
    "    data : pd.DataFrame or gpd.GeoDataFrame\n",
    "        DataFrame containing tweets; must contain column `u_id` for user id\n",
    "    \n",
    "    shapefile : gpd.GeoDataFrame\n",
    "        Shapefile for tracts in tweets location.\n",
    "        Must be in WGS84 (epsg:4326) format (to align with tweet lat/lon).\n",
    "    \n",
    "    lower, upper : int or float\n",
    "        Lower (inclusive) and upper (exclusive) bounds on tweets/user.\n",
    "        \n",
    "    Returns\n",
    "    -------\n",
    "    filtered : gpd.GeoDataFrame\n",
    "        Collection of tweets filtered by lower/upper and with tweet geographies.\n",
    "        Contains new columns:\n",
    "            - 'timestamp' : pd.Timestamp for time of tweet published\n",
    "            - 'date' : date (int) of tweet published\n",
    "            - 'hour' : 24-hour (int) of tweet published\n",
    "            - 'home' : name of home location codigo (some may be NaN)\n",
    "            - 'is_home' : boolean indicating whether tweet was made at home\n",
    "    \"\"\"\n",
    "    # Filter based on lower and upper bound on tweets/user\n",
    "    filtered = data.groupby('u_id').filter(lambda group: (len(group) >= lower) & (len(group) < upper))\n",
    "    \n",
    "    # Geometrize tweets (inplace) based on lat/lon\n",
    "    filtered = geometrize_tweets(filtered)\n",
    "    \n",
    "    # Spatial join with tracts\n",
    "    filtered = gpd.sjoin(filtered, shapefile, how='left', op='intersects')\n",
    "    \n",
    "    # Add datetime\n",
    "    filtered['timestamp'] = pd.to_datetime(filtered['created_at'] // 1000, unit='s')\n",
    "    filtered['date'] = filtered['timestamp'].dt.date\n",
    "    filtered['hour'] = filtered['timestamp'].dt.hour\n",
    "    \n",
    "    # Add home location\n",
    "    filtered['home'] = assign_home_location(filtered, SA2='SA2_MAIN16')\n",
    "    filtered['is_home'] = filtered['SA2_MAIN16'] == filtered['home']\n",
    "    \n",
    "    return filtered"
   ]
  },
  {
   "cell_type": "code",
   "execution_count": 3,
   "metadata": {},
   "outputs": [],
   "source": [
    "#read in the twitter data in box\n",
    "hk_twitter = pd.read_csv('C:\\\\Users\\\\emman\\\\box\\\\Twitter data\\\\Asia\\\\Hong Kong\\\\hongkong.csv')"
   ]
  },
  {
   "cell_type": "code",
   "execution_count": 4,
   "metadata": {},
   "outputs": [
    {
     "name": "stdout",
     "output_type": "stream",
     "text": [
      "<class 'pandas.core.frame.DataFrame'>\n",
      "RangeIndex: 4122654 entries, 0 to 4122653\n",
      "Data columns (total 13 columns):\n",
      " #   Column             Dtype  \n",
      "---  ------             -----  \n",
      " 0   id                 int64  \n",
      " 1   created_at         float64\n",
      " 2   text               object \n",
      " 3   u_id               int64  \n",
      " 4   u_name             object \n",
      " 5   u_created_at       float64\n",
      " 6   u_followers_count  int64  \n",
      " 7   type               object \n",
      " 8   c_country          object \n",
      " 9   u_screen_name      object \n",
      " 10  u_friends_count    int64  \n",
      " 11  location.lon       float64\n",
      " 12  location.lat       float64\n",
      "dtypes: float64(4), int64(4), object(5)\n",
      "memory usage: 408.9+ MB\n"
     ]
    }
   ],
   "source": [
    "hk_twitter.info()"
   ]
  },
  {
   "cell_type": "code",
   "execution_count": 5,
   "metadata": {},
   "outputs": [],
   "source": [
    "hk_twitter.rename(columns={'location.lon':'lon','location.lat':'lat'},inplace=True)"
   ]
  },
  {
   "cell_type": "code",
   "execution_count": 6,
   "metadata": {},
   "outputs": [],
   "source": [
    "hk_gdf = gpd.read_file('C:\\\\Users\\\\emman\\\\box\\\\Twitter data\\\\Asia\\\\Hong Kong\\\\HK_2016_TPUs.geojson')"
   ]
  },
  {
   "cell_type": "code",
   "execution_count": 7,
   "metadata": {},
   "outputs": [
    {
     "name": "stdout",
     "output_type": "stream",
     "text": [
      "<class 'geopandas.geodataframe.GeoDataFrame'>\n",
      "RangeIndex: 5034 entries, 0 to 5033\n",
      "Data columns (total 11 columns):\n",
      " #   Column        Non-Null Count  Dtype   \n",
      "---  ------        --------------  -----   \n",
      " 0   OBJECTID      5034 non-null   int64   \n",
      " 1   PPU           5034 non-null   int64   \n",
      " 2   SPU           5034 non-null   int64   \n",
      " 3   TPU           5034 non-null   int64   \n",
      " 4   SB_VC         5034 non-null   int64   \n",
      " 5   TYPE_Eng      5034 non-null   object  \n",
      " 6   TYPE_TC       5034 non-null   object  \n",
      " 7   TYPE_SC       5034 non-null   object  \n",
      " 8   Shape_Length  5034 non-null   float64 \n",
      " 9   Shape_Area    5034 non-null   float64 \n",
      " 10  geometry      5034 non-null   geometry\n",
      "dtypes: float64(2), geometry(1), int64(5), object(3)\n",
      "memory usage: 432.7+ KB\n"
     ]
    }
   ],
   "source": [
    "hk_gdf.info()"
   ]
  },
  {
   "cell_type": "code",
   "execution_count": 29,
   "metadata": {},
   "outputs": [],
   "source": [
    "au_twitter.dropna(inplace=True)"
   ]
  },
  {
   "cell_type": "code",
   "execution_count": 5,
   "metadata": {},
   "outputs": [
    {
     "data": {
      "text/html": [
       "<div>\n",
       "<style scoped>\n",
       "    .dataframe tbody tr th:only-of-type {\n",
       "        vertical-align: middle;\n",
       "    }\n",
       "\n",
       "    .dataframe tbody tr th {\n",
       "        vertical-align: top;\n",
       "    }\n",
       "\n",
       "    .dataframe thead th {\n",
       "        text-align: right;\n",
       "    }\n",
       "</style>\n",
       "<table border=\"1\" class=\"dataframe\">\n",
       "  <thead>\n",
       "    <tr style=\"text-align: right;\">\n",
       "      <th></th>\n",
       "      <th>id</th>\n",
       "      <th>created_at</th>\n",
       "      <th>text</th>\n",
       "      <th>u_id</th>\n",
       "      <th>u_name</th>\n",
       "      <th>u_created_at</th>\n",
       "      <th>u_description</th>\n",
       "      <th>u_followers_count</th>\n",
       "      <th>type</th>\n",
       "      <th>c_country</th>\n",
       "      <th>u_screen_name</th>\n",
       "      <th>u_friends_count</th>\n",
       "      <th>location.lon</th>\n",
       "      <th>location.lat</th>\n",
       "    </tr>\n",
       "  </thead>\n",
       "  <tbody>\n",
       "    <tr>\n",
       "      <th>0</th>\n",
       "      <td>227410653344841728</td>\n",
       "      <td>1.343054e+12</td>\n",
       "      <td>@DaintyAintMe one hyphenated word for you my l...</td>\n",
       "      <td>421108959</td>\n",
       "      <td>jcaldwellau</td>\n",
       "      <td>1.322231e+12</td>\n",
       "      <td>• Lascivious • Serial Flirt • Daring • Music l...</td>\n",
       "      <td>3877</td>\n",
       "      <td>ll</td>\n",
       "      <td>AUS</td>\n",
       "      <td>JCaldwellAu</td>\n",
       "      <td>339</td>\n",
       "      <td>151.219627</td>\n",
       "      <td>-33.878069</td>\n",
       "    </tr>\n",
       "    <tr>\n",
       "      <th>1</th>\n",
       "      <td>227395003947810817</td>\n",
       "      <td>1.343050e+12</td>\n",
       "      <td>Optus在strathfield附近的基站是不是出故障了，各种network lost...</td>\n",
       "      <td>22230298</td>\n",
       "      <td>McKay Wei </td>\n",
       "      <td>1.235797e+12</td>\n",
       "      <td>I make things on the web. #SocialMediaEnthusia...</td>\n",
       "      <td>1023</td>\n",
       "      <td>ll</td>\n",
       "      <td>AUS</td>\n",
       "      <td>McKayWei</td>\n",
       "      <td>850</td>\n",
       "      <td>151.089056</td>\n",
       "      <td>-33.869059</td>\n",
       "    </tr>\n",
       "    <tr>\n",
       "      <th>2</th>\n",
       "      <td>227395554844483584</td>\n",
       "      <td>1.343050e+12</td>\n",
       "      <td>@heyfeebs nah it was at 2am... and hopefully n...</td>\n",
       "      <td>26226128</td>\n",
       "      <td>Daniel Baluyot</td>\n",
       "      <td>1.237898e+12</td>\n",
       "      <td>17 year old Filipino, I'm a Sydneysider. I'll ...</td>\n",
       "      <td>148</td>\n",
       "      <td>ll</td>\n",
       "      <td>AUS</td>\n",
       "      <td>jhimdaniel</td>\n",
       "      <td>152</td>\n",
       "      <td>150.947871</td>\n",
       "      <td>-33.798275</td>\n",
       "    </tr>\n",
       "    <tr>\n",
       "      <th>3</th>\n",
       "      <td>227397391727333376</td>\n",
       "      <td>1.343051e+12</td>\n",
       "      <td>@JUSECALO @AndreaSernaRCN si el apuntador dict...</td>\n",
       "      <td>149103289</td>\n",
       "      <td>Menchita</td>\n",
       "      <td>1.275050e+12</td>\n",
       "      <td>Colombiana 100% paisa. Amo el cine, la buena c...</td>\n",
       "      <td>16</td>\n",
       "      <td>ll</td>\n",
       "      <td>AUS</td>\n",
       "      <td>Guizmito</td>\n",
       "      <td>91</td>\n",
       "      <td>151.178006</td>\n",
       "      <td>-33.809274</td>\n",
       "    </tr>\n",
       "    <tr>\n",
       "      <th>4</th>\n",
       "      <td>227398082562768896</td>\n",
       "      <td>1.343051e+12</td>\n",
       "      <td>@nichteo1995 cause we didnt meet before I leav...</td>\n",
       "      <td>464020712</td>\n",
       "      <td>Julia</td>\n",
       "      <td>1.326568e+12</td>\n",
       "      <td>Done trusting people.</td>\n",
       "      <td>69</td>\n",
       "      <td>ll</td>\n",
       "      <td>AUS</td>\n",
       "      <td>justjuliac</td>\n",
       "      <td>68</td>\n",
       "      <td>151.222993</td>\n",
       "      <td>-33.912209</td>\n",
       "    </tr>\n",
       "  </tbody>\n",
       "</table>\n",
       "</div>"
      ],
      "text/plain": [
       "                   id    created_at  \\\n",
       "0  227410653344841728  1.343054e+12   \n",
       "1  227395003947810817  1.343050e+12   \n",
       "2  227395554844483584  1.343050e+12   \n",
       "3  227397391727333376  1.343051e+12   \n",
       "4  227398082562768896  1.343051e+12   \n",
       "\n",
       "                                                text       u_id  \\\n",
       "0  @DaintyAintMe one hyphenated word for you my l...  421108959   \n",
       "1    Optus在strathfield附近的基站是不是出故障了，各种network lost...   22230298   \n",
       "2  @heyfeebs nah it was at 2am... and hopefully n...   26226128   \n",
       "3  @JUSECALO @AndreaSernaRCN si el apuntador dict...  149103289   \n",
       "4  @nichteo1995 cause we didnt meet before I leav...  464020712   \n",
       "\n",
       "           u_name  u_created_at  \\\n",
       "0     jcaldwellau  1.322231e+12   \n",
       "1     McKay Wei   1.235797e+12   \n",
       "2  Daniel Baluyot  1.237898e+12   \n",
       "3        Menchita  1.275050e+12   \n",
       "4           Julia  1.326568e+12   \n",
       "\n",
       "                                       u_description  u_followers_count type  \\\n",
       "0  • Lascivious • Serial Flirt • Daring • Music l...               3877   ll   \n",
       "1  I make things on the web. #SocialMediaEnthusia...               1023   ll   \n",
       "2  17 year old Filipino, I'm a Sydneysider. I'll ...                148   ll   \n",
       "3  Colombiana 100% paisa. Amo el cine, la buena c...                 16   ll   \n",
       "4                             Done trusting people.                  69   ll   \n",
       "\n",
       "  c_country u_screen_name  u_friends_count  location.lon  location.lat  \n",
       "0       AUS   JCaldwellAu              339    151.219627    -33.878069  \n",
       "1       AUS      McKayWei              850    151.089056    -33.869059  \n",
       "2       AUS    jhimdaniel              152    150.947871    -33.798275  \n",
       "3       AUS      Guizmito               91    151.178006    -33.809274  \n",
       "4       AUS    justjuliac               68    151.222993    -33.912209  "
      ]
     },
     "execution_count": 5,
     "metadata": {},
     "output_type": "execute_result"
    }
   ],
   "source": [
    "au_twitter.head()"
   ]
  },
  {
   "cell_type": "code",
   "execution_count": 30,
   "metadata": {},
   "outputs": [
    {
     "data": {
      "text/plain": [
       "(6450144, 14)"
      ]
     },
     "execution_count": 30,
     "metadata": {},
     "output_type": "execute_result"
    }
   ],
   "source": [
    "au_twitter.shape"
   ]
  },
  {
   "cell_type": "code",
   "execution_count": 31,
   "metadata": {},
   "outputs": [
    {
     "data": {
      "text/html": [
       "<div>\n",
       "<style scoped>\n",
       "    .dataframe tbody tr th:only-of-type {\n",
       "        vertical-align: middle;\n",
       "    }\n",
       "\n",
       "    .dataframe tbody tr th {\n",
       "        vertical-align: top;\n",
       "    }\n",
       "\n",
       "    .dataframe thead th {\n",
       "        text-align: right;\n",
       "    }\n",
       "</style>\n",
       "<table border=\"1\" class=\"dataframe\">\n",
       "  <thead>\n",
       "    <tr style=\"text-align: right;\">\n",
       "      <th></th>\n",
       "      <th>id</th>\n",
       "      <th>text</th>\n",
       "      <th>date</th>\n",
       "      <th>timestamp</th>\n",
       "    </tr>\n",
       "  </thead>\n",
       "  <tbody>\n",
       "    <tr>\n",
       "      <th>0</th>\n",
       "      <td>227410653344841728</td>\n",
       "      <td>@DaintyAintMe one hyphenated word for you my l...</td>\n",
       "      <td>2012-07-23</td>\n",
       "      <td>2012-07-23 14:31:39</td>\n",
       "    </tr>\n",
       "    <tr>\n",
       "      <th>1</th>\n",
       "      <td>227395003947810817</td>\n",
       "      <td>Optus在strathfield附近的基站是不是出故障了，各种network lost...</td>\n",
       "      <td>2012-07-23</td>\n",
       "      <td>2012-07-23 13:29:28</td>\n",
       "    </tr>\n",
       "    <tr>\n",
       "      <th>2</th>\n",
       "      <td>227395554844483584</td>\n",
       "      <td>@heyfeebs nah it was at 2am... and hopefully n...</td>\n",
       "      <td>2012-07-23</td>\n",
       "      <td>2012-07-23 13:31:39</td>\n",
       "    </tr>\n",
       "    <tr>\n",
       "      <th>3</th>\n",
       "      <td>227397391727333376</td>\n",
       "      <td>@JUSECALO @AndreaSernaRCN si el apuntador dict...</td>\n",
       "      <td>2012-07-23</td>\n",
       "      <td>2012-07-23 13:38:57</td>\n",
       "    </tr>\n",
       "    <tr>\n",
       "      <th>4</th>\n",
       "      <td>227398082562768896</td>\n",
       "      <td>@nichteo1995 cause we didnt meet before I leav...</td>\n",
       "      <td>2012-07-23</td>\n",
       "      <td>2012-07-23 13:41:42</td>\n",
       "    </tr>\n",
       "  </tbody>\n",
       "</table>\n",
       "</div>"
      ],
      "text/plain": [
       "                   id                                               text  \\\n",
       "0  227410653344841728  @DaintyAintMe one hyphenated word for you my l...   \n",
       "1  227395003947810817    Optus在strathfield附近的基站是不是出故障了，各种network lost...   \n",
       "2  227395554844483584  @heyfeebs nah it was at 2am... and hopefully n...   \n",
       "3  227397391727333376  @JUSECALO @AndreaSernaRCN si el apuntador dict...   \n",
       "4  227398082562768896  @nichteo1995 cause we didnt meet before I leav...   \n",
       "\n",
       "         date           timestamp  \n",
       "0  2012-07-23 2012-07-23 14:31:39  \n",
       "1  2012-07-23 2012-07-23 13:29:28  \n",
       "2  2012-07-23 2012-07-23 13:31:39  \n",
       "3  2012-07-23 2012-07-23 13:38:57  \n",
       "4  2012-07-23 2012-07-23 13:41:42  "
      ]
     },
     "execution_count": 31,
     "metadata": {},
     "output_type": "execute_result"
    }
   ],
   "source": [
    "au_twitter['timestamp'] = pd.to_datetime(au_twitter['created_at'] // 1000, unit='s')\n",
    "au_twitter['date'] = au_twitter['timestamp'].dt.date\n",
    "au_twitter[['id', 'text', 'date','timestamp']].head()"
   ]
  },
  {
   "cell_type": "code",
   "execution_count": 32,
   "metadata": {},
   "outputs": [],
   "source": [
    "au_twitter['date'] = pd.to_datetime(au_twitter.date)"
   ]
  },
  {
   "cell_type": "code",
   "execution_count": 33,
   "metadata": {},
   "outputs": [
    {
     "name": "stdout",
     "output_type": "stream",
     "text": [
      "<class 'pandas.core.frame.DataFrame'>\n",
      "Int64Index: 6450144 entries, 0 to 7262132\n",
      "Data columns (total 16 columns):\n",
      " #   Column             Dtype         \n",
      "---  ------             -----         \n",
      " 0   id                 int64         \n",
      " 1   created_at         float64       \n",
      " 2   text               object        \n",
      " 3   u_id               int64         \n",
      " 4   u_name             object        \n",
      " 5   u_created_at       float64       \n",
      " 6   u_description      object        \n",
      " 7   u_followers_count  int64         \n",
      " 8   type               object        \n",
      " 9   c_country          object        \n",
      " 10  u_screen_name      object        \n",
      " 11  u_friends_count    int64         \n",
      " 12  location.lon       float64       \n",
      " 13  location.lat       float64       \n",
      " 14  timestamp          datetime64[ns]\n",
      " 15  date               datetime64[ns]\n",
      "dtypes: datetime64[ns](2), float64(4), int64(4), object(6)\n",
      "memory usage: 836.6+ MB\n"
     ]
    }
   ],
   "source": [
    "au_twitter.info()"
   ]
  },
  {
   "cell_type": "markdown",
   "metadata": {},
   "source": [
    "Let's give those lat long a specific geometry as a point value for later geospatial plotting"
   ]
  },
  {
   "cell_type": "code",
   "execution_count": 34,
   "metadata": {},
   "outputs": [],
   "source": [
    "# Create a shapely.geometry.Point for each tweet\n",
    "geometry = [Point(xy) for xy in zip(au_twitter['location.lon'], au_twitter['location.lat'])]\n",
    "crs = {'init' :'epsg:4326'}"
   ]
  },
  {
   "cell_type": "code",
   "execution_count": 35,
   "metadata": {},
   "outputs": [
    {
     "name": "stderr",
     "output_type": "stream",
     "text": [
      "C:\\Users\\emman\\AppData\\Local\\Continuum\\anaconda3\\lib\\site-packages\\pyproj\\crs\\crs.py:53: FutureWarning: '+init=<authority>:<code>' syntax is deprecated. '<authority>:<code>' is the preferred initialization method. When making the change, be mindful of axis order changes: https://pyproj4.github.io/pyproj/stable/gotchas.html#axis-order-changes-in-proj-6\n",
      "  return _prepare_from_string(\" \".join(pjargs))\n"
     ]
    }
   ],
   "source": [
    "# Convert to GeoDataFrame, where each tweet's geometry is assigned to the lat/lon coords\n",
    "twt_gdf = gpd.GeoDataFrame(au_twitter, crs=crs, geometry=geometry)"
   ]
  },
  {
   "cell_type": "code",
   "execution_count": 36,
   "metadata": {},
   "outputs": [
    {
     "name": "stdout",
     "output_type": "stream",
     "text": [
      "(6450144, 17)\n"
     ]
    },
    {
     "data": {
      "text/html": [
       "<div>\n",
       "<style scoped>\n",
       "    .dataframe tbody tr th:only-of-type {\n",
       "        vertical-align: middle;\n",
       "    }\n",
       "\n",
       "    .dataframe tbody tr th {\n",
       "        vertical-align: top;\n",
       "    }\n",
       "\n",
       "    .dataframe thead th {\n",
       "        text-align: right;\n",
       "    }\n",
       "</style>\n",
       "<table border=\"1\" class=\"dataframe\">\n",
       "  <thead>\n",
       "    <tr style=\"text-align: right;\">\n",
       "      <th></th>\n",
       "      <th>id</th>\n",
       "      <th>created_at</th>\n",
       "      <th>text</th>\n",
       "      <th>u_id</th>\n",
       "      <th>u_name</th>\n",
       "      <th>u_created_at</th>\n",
       "      <th>u_description</th>\n",
       "      <th>u_followers_count</th>\n",
       "      <th>type</th>\n",
       "      <th>c_country</th>\n",
       "      <th>u_screen_name</th>\n",
       "      <th>u_friends_count</th>\n",
       "      <th>location.lon</th>\n",
       "      <th>location.lat</th>\n",
       "      <th>timestamp</th>\n",
       "      <th>date</th>\n",
       "      <th>geometry</th>\n",
       "    </tr>\n",
       "  </thead>\n",
       "  <tbody>\n",
       "    <tr>\n",
       "      <th>0</th>\n",
       "      <td>227410653344841728</td>\n",
       "      <td>1.343054e+12</td>\n",
       "      <td>@DaintyAintMe one hyphenated word for you my l...</td>\n",
       "      <td>421108959</td>\n",
       "      <td>jcaldwellau</td>\n",
       "      <td>1.322231e+12</td>\n",
       "      <td>• Lascivious • Serial Flirt • Daring • Music l...</td>\n",
       "      <td>3877</td>\n",
       "      <td>ll</td>\n",
       "      <td>AUS</td>\n",
       "      <td>JCaldwellAu</td>\n",
       "      <td>339</td>\n",
       "      <td>151.219627</td>\n",
       "      <td>-33.878069</td>\n",
       "      <td>2012-07-23 14:31:39</td>\n",
       "      <td>2012-07-23</td>\n",
       "      <td>POINT (151.21963 -33.87807)</td>\n",
       "    </tr>\n",
       "    <tr>\n",
       "      <th>1</th>\n",
       "      <td>227395003947810817</td>\n",
       "      <td>1.343050e+12</td>\n",
       "      <td>Optus在strathfield附近的基站是不是出故障了，各种network lost...</td>\n",
       "      <td>22230298</td>\n",
       "      <td>McKay Wei </td>\n",
       "      <td>1.235797e+12</td>\n",
       "      <td>I make things on the web. #SocialMediaEnthusia...</td>\n",
       "      <td>1023</td>\n",
       "      <td>ll</td>\n",
       "      <td>AUS</td>\n",
       "      <td>McKayWei</td>\n",
       "      <td>850</td>\n",
       "      <td>151.089056</td>\n",
       "      <td>-33.869059</td>\n",
       "      <td>2012-07-23 13:29:28</td>\n",
       "      <td>2012-07-23</td>\n",
       "      <td>POINT (151.08906 -33.86906)</td>\n",
       "    </tr>\n",
       "    <tr>\n",
       "      <th>2</th>\n",
       "      <td>227395554844483584</td>\n",
       "      <td>1.343050e+12</td>\n",
       "      <td>@heyfeebs nah it was at 2am... and hopefully n...</td>\n",
       "      <td>26226128</td>\n",
       "      <td>Daniel Baluyot</td>\n",
       "      <td>1.237898e+12</td>\n",
       "      <td>17 year old Filipino, I'm a Sydneysider. I'll ...</td>\n",
       "      <td>148</td>\n",
       "      <td>ll</td>\n",
       "      <td>AUS</td>\n",
       "      <td>jhimdaniel</td>\n",
       "      <td>152</td>\n",
       "      <td>150.947871</td>\n",
       "      <td>-33.798275</td>\n",
       "      <td>2012-07-23 13:31:39</td>\n",
       "      <td>2012-07-23</td>\n",
       "      <td>POINT (150.94787 -33.79827)</td>\n",
       "    </tr>\n",
       "    <tr>\n",
       "      <th>3</th>\n",
       "      <td>227397391727333376</td>\n",
       "      <td>1.343051e+12</td>\n",
       "      <td>@JUSECALO @AndreaSernaRCN si el apuntador dict...</td>\n",
       "      <td>149103289</td>\n",
       "      <td>Menchita</td>\n",
       "      <td>1.275050e+12</td>\n",
       "      <td>Colombiana 100% paisa. Amo el cine, la buena c...</td>\n",
       "      <td>16</td>\n",
       "      <td>ll</td>\n",
       "      <td>AUS</td>\n",
       "      <td>Guizmito</td>\n",
       "      <td>91</td>\n",
       "      <td>151.178006</td>\n",
       "      <td>-33.809274</td>\n",
       "      <td>2012-07-23 13:38:57</td>\n",
       "      <td>2012-07-23</td>\n",
       "      <td>POINT (151.17801 -33.80927)</td>\n",
       "    </tr>\n",
       "    <tr>\n",
       "      <th>4</th>\n",
       "      <td>227398082562768896</td>\n",
       "      <td>1.343051e+12</td>\n",
       "      <td>@nichteo1995 cause we didnt meet before I leav...</td>\n",
       "      <td>464020712</td>\n",
       "      <td>Julia</td>\n",
       "      <td>1.326568e+12</td>\n",
       "      <td>Done trusting people.</td>\n",
       "      <td>69</td>\n",
       "      <td>ll</td>\n",
       "      <td>AUS</td>\n",
       "      <td>justjuliac</td>\n",
       "      <td>68</td>\n",
       "      <td>151.222993</td>\n",
       "      <td>-33.912209</td>\n",
       "      <td>2012-07-23 13:41:42</td>\n",
       "      <td>2012-07-23</td>\n",
       "      <td>POINT (151.22299 -33.91221)</td>\n",
       "    </tr>\n",
       "  </tbody>\n",
       "</table>\n",
       "</div>"
      ],
      "text/plain": [
       "                   id    created_at  \\\n",
       "0  227410653344841728  1.343054e+12   \n",
       "1  227395003947810817  1.343050e+12   \n",
       "2  227395554844483584  1.343050e+12   \n",
       "3  227397391727333376  1.343051e+12   \n",
       "4  227398082562768896  1.343051e+12   \n",
       "\n",
       "                                                text       u_id  \\\n",
       "0  @DaintyAintMe one hyphenated word for you my l...  421108959   \n",
       "1    Optus在strathfield附近的基站是不是出故障了，各种network lost...   22230298   \n",
       "2  @heyfeebs nah it was at 2am... and hopefully n...   26226128   \n",
       "3  @JUSECALO @AndreaSernaRCN si el apuntador dict...  149103289   \n",
       "4  @nichteo1995 cause we didnt meet before I leav...  464020712   \n",
       "\n",
       "           u_name  u_created_at  \\\n",
       "0     jcaldwellau  1.322231e+12   \n",
       "1     McKay Wei   1.235797e+12   \n",
       "2  Daniel Baluyot  1.237898e+12   \n",
       "3        Menchita  1.275050e+12   \n",
       "4           Julia  1.326568e+12   \n",
       "\n",
       "                                       u_description  u_followers_count type  \\\n",
       "0  • Lascivious • Serial Flirt • Daring • Music l...               3877   ll   \n",
       "1  I make things on the web. #SocialMediaEnthusia...               1023   ll   \n",
       "2  17 year old Filipino, I'm a Sydneysider. I'll ...                148   ll   \n",
       "3  Colombiana 100% paisa. Amo el cine, la buena c...                 16   ll   \n",
       "4                             Done trusting people.                  69   ll   \n",
       "\n",
       "  c_country u_screen_name  u_friends_count  location.lon  location.lat  \\\n",
       "0       AUS   JCaldwellAu              339    151.219627    -33.878069   \n",
       "1       AUS      McKayWei              850    151.089056    -33.869059   \n",
       "2       AUS    jhimdaniel              152    150.947871    -33.798275   \n",
       "3       AUS      Guizmito               91    151.178006    -33.809274   \n",
       "4       AUS    justjuliac               68    151.222993    -33.912209   \n",
       "\n",
       "            timestamp       date                     geometry  \n",
       "0 2012-07-23 14:31:39 2012-07-23  POINT (151.21963 -33.87807)  \n",
       "1 2012-07-23 13:29:28 2012-07-23  POINT (151.08906 -33.86906)  \n",
       "2 2012-07-23 13:31:39 2012-07-23  POINT (150.94787 -33.79827)  \n",
       "3 2012-07-23 13:38:57 2012-07-23  POINT (151.17801 -33.80927)  \n",
       "4 2012-07-23 13:41:42 2012-07-23  POINT (151.22299 -33.91221)  "
      ]
     },
     "execution_count": 36,
     "metadata": {},
     "output_type": "execute_result"
    }
   ],
   "source": [
    "print(twt_gdf.shape)\n",
    "twt_gdf.head()"
   ]
  },
  {
   "cell_type": "code",
   "execution_count": 37,
   "metadata": {},
   "outputs": [
    {
     "name": "stderr",
     "output_type": "stream",
     "text": [
      "C:\\Users\\emman\\AppData\\Local\\Continuum\\anaconda3\\lib\\site-packages\\pyproj\\crs\\crs.py:53: FutureWarning: '+init=<authority>:<code>' syntax is deprecated. '<authority>:<code>' is the preferred initialization method. When making the change, be mindful of axis order changes: https://pyproj4.github.io/pyproj/stable/gotchas.html#axis-order-changes-in-proj-6\n",
      "  return _prepare_from_string(\" \".join(pjargs))\n"
     ]
    },
    {
     "data": {
      "image/png": "[encoded data removed]",
      "text/plain": [
       "<Figure size 432x288 with 1 Axes>"
      ]
     },
     "metadata": {
      "needs_background": "light"
     },
     "output_type": "display_data"
    }
   ],
   "source": [
    "# Read Australia SA2 shapefiles\n",
    "ucl_shape_sa2 = gpd.read_file('C:\\\\Users\\\\emman\\\\box\\\\Spring 2020\\\\Displacement Studio\\\\Shared 228 Sydney Folder\\\\SA2 Shapefiles\\\\sa2_ucl.dbf')\n",
    "#Crikey, our area is too big\n",
    "ucl_shape_sa2.plot()\n",
    "# We also need to change the crs \n",
    "ucl_shape_sa2.crs = {'init': 'epsg:4326'}"
   ]
  },
  {
   "cell_type": "code",
   "execution_count": 38,
   "metadata": {},
   "outputs": [
    {
     "ename": "KeyboardInterrupt",
     "evalue": "",
     "output_type": "error",
     "traceback": [
      "\u001b[1;31m---------------------------------------------------------------------------\u001b[0m",
      "\u001b[1;31mKeyboardInterrupt\u001b[0m                         Traceback (most recent call last)",
      "\u001b[1;32m<ipython-input-38-d724d3ad2c29>\u001b[0m in \u001b[0;36m<module>\u001b[1;34m\u001b[0m\n\u001b[0;32m      1\u001b[0m \u001b[0mfig\u001b[0m\u001b[1;33m,\u001b[0m \u001b[0max\u001b[0m \u001b[1;33m=\u001b[0m \u001b[0mplt\u001b[0m\u001b[1;33m.\u001b[0m\u001b[0msubplots\u001b[0m\u001b[1;33m(\u001b[0m\u001b[0mfigsize\u001b[0m\u001b[1;33m=\u001b[0m\u001b[1;33m(\u001b[0m\u001b[1;36m14\u001b[0m\u001b[1;33m,\u001b[0m \u001b[1;36m10\u001b[0m\u001b[1;33m)\u001b[0m\u001b[1;33m)\u001b[0m\u001b[1;33m\u001b[0m\u001b[1;33m\u001b[0m\u001b[0m\n\u001b[0;32m      2\u001b[0m \u001b[0mucl_shape_sa2\u001b[0m\u001b[1;33m[\u001b[0m\u001b[1;34m'geometry'\u001b[0m\u001b[1;33m]\u001b[0m\u001b[1;33m.\u001b[0m\u001b[0mplot\u001b[0m\u001b[1;33m(\u001b[0m\u001b[0max\u001b[0m\u001b[1;33m=\u001b[0m\u001b[0max\u001b[0m\u001b[1;33m)\u001b[0m\u001b[1;33m\u001b[0m\u001b[1;33m\u001b[0m\u001b[0m\n\u001b[1;32m----> 3\u001b[1;33m \u001b[0mtwt_gdf\u001b[0m\u001b[1;33m.\u001b[0m\u001b[0mplot\u001b[0m\u001b[1;33m(\u001b[0m\u001b[0max\u001b[0m\u001b[1;33m=\u001b[0m\u001b[0max\u001b[0m\u001b[1;33m,\u001b[0m \u001b[0mmarker\u001b[0m\u001b[1;33m=\u001b[0m\u001b[1;34m'o'\u001b[0m\u001b[1;33m,\u001b[0m \u001b[0mcolor\u001b[0m\u001b[1;33m=\u001b[0m\u001b[1;34m'red'\u001b[0m\u001b[1;33m,\u001b[0m \u001b[0malpha\u001b[0m\u001b[1;33m=\u001b[0m\u001b[1;36m0.05\u001b[0m\u001b[1;33m)\u001b[0m\u001b[1;33m;\u001b[0m\u001b[1;33m\u001b[0m\u001b[1;33m\u001b[0m\u001b[0m\n\u001b[0m",
      "\u001b[1;32m~\\AppData\\Local\\Continuum\\anaconda3\\lib\\site-packages\\geopandas\\geodataframe.py\u001b[0m in \u001b[0;36mplot\u001b[1;34m(self, *args, **kwargs)\u001b[0m\n\u001b[0;32m    654\u001b[0m         \u001b[1;32mfrom\u001b[0m \u001b[0mthere\u001b[0m\u001b[1;33m.\u001b[0m\u001b[1;33m\u001b[0m\u001b[1;33m\u001b[0m\u001b[0m\n\u001b[0;32m    655\u001b[0m         \"\"\"\n\u001b[1;32m--> 656\u001b[1;33m         \u001b[1;32mreturn\u001b[0m \u001b[0mplot_dataframe\u001b[0m\u001b[1;33m(\u001b[0m\u001b[0mself\u001b[0m\u001b[1;33m,\u001b[0m \u001b[1;33m*\u001b[0m\u001b[0margs\u001b[0m\u001b[1;33m,\u001b[0m \u001b[1;33m**\u001b[0m\u001b[0mkwargs\u001b[0m\u001b[1;33m)\u001b[0m\u001b[1;33m\u001b[0m\u001b[1;33m\u001b[0m\u001b[0m\n\u001b[0m\u001b[0;32m    657\u001b[0m \u001b[1;33m\u001b[0m\u001b[0m\n\u001b[0;32m    658\u001b[0m     \u001b[0mplot\u001b[0m\u001b[1;33m.\u001b[0m\u001b[0m__doc__\u001b[0m \u001b[1;33m=\u001b[0m \u001b[0mplot_dataframe\u001b[0m\u001b[1;33m.\u001b[0m\u001b[0m__doc__\u001b[0m\u001b[1;33m\u001b[0m\u001b[1;33m\u001b[0m\u001b[0m\n",
      "\u001b[1;32m~\\AppData\\Local\\Continuum\\anaconda3\\lib\\site-packages\\geopandas\\plotting.py\u001b[0m in \u001b[0;36mplot_dataframe\u001b[1;34m(df, column, cmap, color, ax, cax, categorical, legend, scheme, k, vmin, vmax, markersize, figsize, legend_kwds, classification_kwds, missing_kwds, **style_kwds)\u001b[0m\n\u001b[0;32m    545\u001b[0m             \u001b[0mfigsize\u001b[0m\u001b[1;33m=\u001b[0m\u001b[0mfigsize\u001b[0m\u001b[1;33m,\u001b[0m\u001b[1;33m\u001b[0m\u001b[1;33m\u001b[0m\u001b[0m\n\u001b[0;32m    546\u001b[0m             \u001b[0mmarkersize\u001b[0m\u001b[1;33m=\u001b[0m\u001b[0mmarkersize\u001b[0m\u001b[1;33m,\u001b[0m\u001b[1;33m\u001b[0m\u001b[1;33m\u001b[0m\u001b[0m\n\u001b[1;32m--> 547\u001b[1;33m             \u001b[1;33m**\u001b[0m\u001b[0mstyle_kwds\u001b[0m\u001b[1;33m\u001b[0m\u001b[1;33m\u001b[0m\u001b[0m\n\u001b[0m\u001b[0;32m    548\u001b[0m         )\n\u001b[0;32m    549\u001b[0m \u001b[1;33m\u001b[0m\u001b[0m\n",
      "\u001b[1;32m~\\AppData\\Local\\Continuum\\anaconda3\\lib\\site-packages\\geopandas\\plotting.py\u001b[0m in \u001b[0;36mplot_series\u001b[1;34m(s, cmap, color, ax, figsize, **style_kwds)\u001b[0m\n\u001b[0;32m    386\u001b[0m     \u001b[1;32mif\u001b[0m \u001b[1;32mnot\u001b[0m \u001b[0mpoints\u001b[0m\u001b[1;33m.\u001b[0m\u001b[0mempty\u001b[0m\u001b[1;33m:\u001b[0m\u001b[1;33m\u001b[0m\u001b[1;33m\u001b[0m\u001b[0m\n\u001b[0;32m    387\u001b[0m         \u001b[0mvalues_\u001b[0m \u001b[1;33m=\u001b[0m \u001b[0mvalues\u001b[0m\u001b[1;33m[\u001b[0m\u001b[0mpoint_idx\u001b[0m\u001b[1;33m]\u001b[0m \u001b[1;32mif\u001b[0m \u001b[0mcmap\u001b[0m \u001b[1;32melse\u001b[0m \u001b[1;32mNone\u001b[0m\u001b[1;33m\u001b[0m\u001b[1;33m\u001b[0m\u001b[0m\n\u001b[1;32m--> 388\u001b[1;33m         \u001b[0mplot_point_collection\u001b[0m\u001b[1;33m(\u001b[0m\u001b[0max\u001b[0m\u001b[1;33m,\u001b[0m \u001b[0mpoints\u001b[0m\u001b[1;33m,\u001b[0m \u001b[0mvalues_\u001b[0m\u001b[1;33m,\u001b[0m \u001b[0mcolor\u001b[0m\u001b[1;33m=\u001b[0m\u001b[0mcolor\u001b[0m\u001b[1;33m,\u001b[0m \u001b[0mcmap\u001b[0m\u001b[1;33m=\u001b[0m\u001b[0mcmap\u001b[0m\u001b[1;33m,\u001b[0m \u001b[1;33m**\u001b[0m\u001b[0mstyle_kwds\u001b[0m\u001b[1;33m)\u001b[0m\u001b[1;33m\u001b[0m\u001b[1;33m\u001b[0m\u001b[0m\n\u001b[0m\u001b[0;32m    389\u001b[0m \u001b[1;33m\u001b[0m\u001b[0m\n\u001b[0;32m    390\u001b[0m     \u001b[0mplt\u001b[0m\u001b[1;33m.\u001b[0m\u001b[0mdraw\u001b[0m\u001b[1;33m(\u001b[0m\u001b[1;33m)\u001b[0m\u001b[1;33m\u001b[0m\u001b[1;33m\u001b[0m\u001b[0m\n",
      "\u001b[1;32m~\\AppData\\Local\\Continuum\\anaconda3\\lib\\site-packages\\geopandas\\plotting.py\u001b[0m in \u001b[0;36mplot_point_collection\u001b[1;34m(ax, geoms, values, color, cmap, vmin, vmax, marker, markersize, **kwargs)\u001b[0m\n\u001b[0;32m    237\u001b[0m         \u001b[0mvalues\u001b[0m \u001b[1;33m=\u001b[0m \u001b[0mnp\u001b[0m\u001b[1;33m.\u001b[0m\u001b[0mtake\u001b[0m\u001b[1;33m(\u001b[0m\u001b[0mvalues\u001b[0m\u001b[1;33m,\u001b[0m \u001b[0mmultiindex\u001b[0m\u001b[1;33m,\u001b[0m \u001b[0maxis\u001b[0m\u001b[1;33m=\u001b[0m\u001b[1;36m0\u001b[0m\u001b[1;33m)\u001b[0m\u001b[1;33m\u001b[0m\u001b[1;33m\u001b[0m\u001b[0m\n\u001b[0;32m    238\u001b[0m \u001b[1;33m\u001b[0m\u001b[0m\n\u001b[1;32m--> 239\u001b[1;33m     \u001b[0mx\u001b[0m \u001b[1;33m=\u001b[0m \u001b[1;33m[\u001b[0m\u001b[0mp\u001b[0m\u001b[1;33m.\u001b[0m\u001b[0mx\u001b[0m \u001b[1;32mfor\u001b[0m \u001b[0mp\u001b[0m \u001b[1;32min\u001b[0m \u001b[0mgeoms\u001b[0m\u001b[1;33m]\u001b[0m\u001b[1;33m\u001b[0m\u001b[1;33m\u001b[0m\u001b[0m\n\u001b[0m\u001b[0;32m    240\u001b[0m     \u001b[0my\u001b[0m \u001b[1;33m=\u001b[0m \u001b[1;33m[\u001b[0m\u001b[0mp\u001b[0m\u001b[1;33m.\u001b[0m\u001b[0my\u001b[0m \u001b[1;32mfor\u001b[0m \u001b[0mp\u001b[0m \u001b[1;32min\u001b[0m \u001b[0mgeoms\u001b[0m\u001b[1;33m]\u001b[0m\u001b[1;33m\u001b[0m\u001b[1;33m\u001b[0m\u001b[0m\n\u001b[0;32m    241\u001b[0m \u001b[1;33m\u001b[0m\u001b[0m\n",
      "\u001b[1;32m~\\AppData\\Local\\Continuum\\anaconda3\\lib\\site-packages\\geopandas\\plotting.py\u001b[0m in \u001b[0;36m<listcomp>\u001b[1;34m(.0)\u001b[0m\n\u001b[0;32m    237\u001b[0m         \u001b[0mvalues\u001b[0m \u001b[1;33m=\u001b[0m \u001b[0mnp\u001b[0m\u001b[1;33m.\u001b[0m\u001b[0mtake\u001b[0m\u001b[1;33m(\u001b[0m\u001b[0mvalues\u001b[0m\u001b[1;33m,\u001b[0m \u001b[0mmultiindex\u001b[0m\u001b[1;33m,\u001b[0m \u001b[0maxis\u001b[0m\u001b[1;33m=\u001b[0m\u001b[1;36m0\u001b[0m\u001b[1;33m)\u001b[0m\u001b[1;33m\u001b[0m\u001b[1;33m\u001b[0m\u001b[0m\n\u001b[0;32m    238\u001b[0m \u001b[1;33m\u001b[0m\u001b[0m\n\u001b[1;32m--> 239\u001b[1;33m     \u001b[0mx\u001b[0m \u001b[1;33m=\u001b[0m \u001b[1;33m[\u001b[0m\u001b[0mp\u001b[0m\u001b[1;33m.\u001b[0m\u001b[0mx\u001b[0m \u001b[1;32mfor\u001b[0m \u001b[0mp\u001b[0m \u001b[1;32min\u001b[0m \u001b[0mgeoms\u001b[0m\u001b[1;33m]\u001b[0m\u001b[1;33m\u001b[0m\u001b[1;33m\u001b[0m\u001b[0m\n\u001b[0m\u001b[0;32m    240\u001b[0m     \u001b[0my\u001b[0m \u001b[1;33m=\u001b[0m \u001b[1;33m[\u001b[0m\u001b[0mp\u001b[0m\u001b[1;33m.\u001b[0m\u001b[0my\u001b[0m \u001b[1;32mfor\u001b[0m \u001b[0mp\u001b[0m \u001b[1;32min\u001b[0m \u001b[0mgeoms\u001b[0m\u001b[1;33m]\u001b[0m\u001b[1;33m\u001b[0m\u001b[1;33m\u001b[0m\u001b[0m\n\u001b[0;32m    241\u001b[0m \u001b[1;33m\u001b[0m\u001b[0m\n",
      "\u001b[1;32m~\\AppData\\Local\\Continuum\\anaconda3\\lib\\site-packages\\shapely\\geometry\\point.py\u001b[0m in \u001b[0;36mx\u001b[1;34m(self)\u001b[0m\n\u001b[0;32m     54\u001b[0m     \u001b[1;32mdef\u001b[0m \u001b[0mx\u001b[0m\u001b[1;33m(\u001b[0m\u001b[0mself\u001b[0m\u001b[1;33m)\u001b[0m\u001b[1;33m:\u001b[0m\u001b[1;33m\u001b[0m\u001b[1;33m\u001b[0m\u001b[0m\n\u001b[0;32m     55\u001b[0m         \u001b[1;34m\"\"\"Return x coordinate.\"\"\"\u001b[0m\u001b[1;33m\u001b[0m\u001b[1;33m\u001b[0m\u001b[0m\n\u001b[1;32m---> 56\u001b[1;33m         \u001b[1;32mreturn\u001b[0m \u001b[0mself\u001b[0m\u001b[1;33m.\u001b[0m\u001b[0mcoords\u001b[0m\u001b[1;33m[\u001b[0m\u001b[1;36m0\u001b[0m\u001b[1;33m]\u001b[0m\u001b[1;33m[\u001b[0m\u001b[1;36m0\u001b[0m\u001b[1;33m]\u001b[0m\u001b[1;33m\u001b[0m\u001b[1;33m\u001b[0m\u001b[0m\n\u001b[0m\u001b[0;32m     57\u001b[0m \u001b[1;33m\u001b[0m\u001b[0m\n\u001b[0;32m     58\u001b[0m     \u001b[1;33m@\u001b[0m\u001b[0mproperty\u001b[0m\u001b[1;33m\u001b[0m\u001b[1;33m\u001b[0m\u001b[0m\n",
      "\u001b[1;32m~\\AppData\\Local\\Continuum\\anaconda3\\lib\\site-packages\\shapely\\geometry\\base.py\u001b[0m in \u001b[0;36m_get_coords\u001b[1;34m(self)\u001b[0m\n\u001b[0;32m    320\u001b[0m     \u001b[1;32mdef\u001b[0m \u001b[0m_get_coords\u001b[0m\u001b[1;33m(\u001b[0m\u001b[0mself\u001b[0m\u001b[1;33m)\u001b[0m\u001b[1;33m:\u001b[0m\u001b[1;33m\u001b[0m\u001b[1;33m\u001b[0m\u001b[0m\n\u001b[0;32m    321\u001b[0m         \u001b[1;34m\"\"\"Access to geometry's coordinates (CoordinateSequence)\"\"\"\u001b[0m\u001b[1;33m\u001b[0m\u001b[1;33m\u001b[0m\u001b[0m\n\u001b[1;32m--> 322\u001b[1;33m         \u001b[1;32mif\u001b[0m \u001b[0mself\u001b[0m\u001b[1;33m.\u001b[0m\u001b[0mis_empty\u001b[0m\u001b[1;33m:\u001b[0m\u001b[1;33m\u001b[0m\u001b[1;33m\u001b[0m\u001b[0m\n\u001b[0m\u001b[0;32m    323\u001b[0m             \u001b[1;32mreturn\u001b[0m \u001b[1;33m[\u001b[0m\u001b[1;33m]\u001b[0m\u001b[1;33m\u001b[0m\u001b[1;33m\u001b[0m\u001b[0m\n\u001b[0;32m    324\u001b[0m         \u001b[1;32mreturn\u001b[0m \u001b[0mCoordinateSequence\u001b[0m\u001b[1;33m(\u001b[0m\u001b[0mself\u001b[0m\u001b[1;33m)\u001b[0m\u001b[1;33m\u001b[0m\u001b[1;33m\u001b[0m\u001b[0m\n",
      "\u001b[1;32m~\\AppData\\Local\\Continuum\\anaconda3\\lib\\site-packages\\shapely\\geometry\\base.py\u001b[0m in \u001b[0;36mis_empty\u001b[1;34m(self)\u001b[0m\n\u001b[0;32m    641\u001b[0m     \u001b[1;32mdef\u001b[0m \u001b[0mis_empty\u001b[0m\u001b[1;33m(\u001b[0m\u001b[0mself\u001b[0m\u001b[1;33m)\u001b[0m\u001b[1;33m:\u001b[0m\u001b[1;33m\u001b[0m\u001b[1;33m\u001b[0m\u001b[0m\n\u001b[0;32m    642\u001b[0m         \u001b[1;34m\"\"\"True if the set of points in this geometry is empty, else False\"\"\"\u001b[0m\u001b[1;33m\u001b[0m\u001b[1;33m\u001b[0m\u001b[0m\n\u001b[1;32m--> 643\u001b[1;33m         \u001b[1;32mreturn\u001b[0m \u001b[1;33m(\u001b[0m\u001b[0mself\u001b[0m\u001b[1;33m.\u001b[0m\u001b[0m_geom\u001b[0m \u001b[1;32mis\u001b[0m \u001b[1;32mNone\u001b[0m\u001b[1;33m)\u001b[0m \u001b[1;32mor\u001b[0m \u001b[0mbool\u001b[0m\u001b[1;33m(\u001b[0m\u001b[0mself\u001b[0m\u001b[1;33m.\u001b[0m\u001b[0mimpl\u001b[0m\u001b[1;33m[\u001b[0m\u001b[1;34m'is_empty'\u001b[0m\u001b[1;33m]\u001b[0m\u001b[1;33m(\u001b[0m\u001b[0mself\u001b[0m\u001b[1;33m)\u001b[0m\u001b[1;33m)\u001b[0m\u001b[1;33m\u001b[0m\u001b[1;33m\u001b[0m\u001b[0m\n\u001b[0m\u001b[0;32m    644\u001b[0m \u001b[1;33m\u001b[0m\u001b[0m\n\u001b[0;32m    645\u001b[0m     \u001b[1;33m@\u001b[0m\u001b[0mproperty\u001b[0m\u001b[1;33m\u001b[0m\u001b[1;33m\u001b[0m\u001b[0m\n",
      "\u001b[1;32m~\\AppData\\Local\\Continuum\\anaconda3\\lib\\site-packages\\shapely\\predicates.py\u001b[0m in \u001b[0;36m__call__\u001b[1;34m(self, this)\u001b[0m\n\u001b[0;32m     23\u001b[0m     \u001b[1;32mdef\u001b[0m \u001b[0m__call__\u001b[0m\u001b[1;33m(\u001b[0m\u001b[0mself\u001b[0m\u001b[1;33m,\u001b[0m \u001b[0mthis\u001b[0m\u001b[1;33m)\u001b[0m\u001b[1;33m:\u001b[0m\u001b[1;33m\u001b[0m\u001b[1;33m\u001b[0m\u001b[0m\n\u001b[0;32m     24\u001b[0m         \u001b[0mself\u001b[0m\u001b[1;33m.\u001b[0m\u001b[0m_validate\u001b[0m\u001b[1;33m(\u001b[0m\u001b[0mthis\u001b[0m\u001b[1;33m)\u001b[0m\u001b[1;33m\u001b[0m\u001b[1;33m\u001b[0m\u001b[0m\n\u001b[1;32m---> 25\u001b[1;33m         \u001b[1;32mreturn\u001b[0m \u001b[0mself\u001b[0m\u001b[1;33m.\u001b[0m\u001b[0mfn\u001b[0m\u001b[1;33m(\u001b[0m\u001b[0mthis\u001b[0m\u001b[1;33m.\u001b[0m\u001b[0m_geom\u001b[0m\u001b[1;33m)\u001b[0m\u001b[1;33m\u001b[0m\u001b[1;33m\u001b[0m\u001b[0m\n\u001b[0m",
      "\u001b[1;32m~\\AppData\\Local\\Continuum\\anaconda3\\lib\\site-packages\\shapely\\geos.py\u001b[0m in \u001b[0;36merrcheck_predicate\u001b[1;34m(result, func, argtuple)\u001b[0m\n\u001b[0;32m    543\u001b[0m \u001b[1;33m\u001b[0m\u001b[0m\n\u001b[0;32m    544\u001b[0m \u001b[1;33m\u001b[0m\u001b[0m\n\u001b[1;32m--> 545\u001b[1;33m \u001b[1;32mdef\u001b[0m \u001b[0merrcheck_predicate\u001b[0m\u001b[1;33m(\u001b[0m\u001b[0mresult\u001b[0m\u001b[1;33m,\u001b[0m \u001b[0mfunc\u001b[0m\u001b[1;33m,\u001b[0m \u001b[0margtuple\u001b[0m\u001b[1;33m)\u001b[0m\u001b[1;33m:\u001b[0m\u001b[1;33m\u001b[0m\u001b[1;33m\u001b[0m\u001b[0m\n\u001b[0m\u001b[0;32m    546\u001b[0m     \u001b[1;34m\"\"\"Result is 2 on exception, 1 on True, 0 on False\"\"\"\u001b[0m\u001b[1;33m\u001b[0m\u001b[1;33m\u001b[0m\u001b[0m\n\u001b[0;32m    547\u001b[0m     \u001b[1;32mif\u001b[0m \u001b[0mresult\u001b[0m \u001b[1;33m==\u001b[0m \u001b[1;36m2\u001b[0m\u001b[1;33m:\u001b[0m\u001b[1;33m\u001b[0m\u001b[1;33m\u001b[0m\u001b[0m\n",
      "\u001b[1;31mKeyboardInterrupt\u001b[0m: "
     ]
    },
    {
     "data": {
      "image/png": "[encoded data removed]",
      "text/plain": [
       "<Figure size 1008x720 with 1 Axes>"
      ]
     },
     "metadata": {
      "needs_background": "light"
     },
     "output_type": "display_data"
    }
   ],
   "source": [
    "fig, ax = plt.subplots(figsize=(14, 10))\n",
    "ucl_shape_sa2['geometry'].plot(ax=ax)\n",
    "twt_gdf.plot(ax=ax, marker='o', color='red', alpha=0.05);"
   ]
  },
  {
   "cell_type": "markdown",
   "metadata": {},
   "source": [
    "Hey, that's really stupid and uninformative. Maybe there's a better way?"
   ]
  },
  {
   "cell_type": "code",
   "execution_count": 39,
   "metadata": {},
   "outputs": [
    {
     "name": "stdout",
     "output_type": "stream",
     "text": [
      "<class 'geopandas.geodataframe.GeoDataFrame'>\n",
      "RangeIndex: 265 entries, 0 to 264\n",
      "Data columns (total 14 columns):\n",
      " #   Column      Non-Null Count  Dtype   \n",
      "---  ------      --------------  -----   \n",
      " 0   SA2_MAIN16  265 non-null    object  \n",
      " 1   SA2_5DIG16  265 non-null    object  \n",
      " 2   SA2_NAME16  265 non-null    object  \n",
      " 3   SA3_CODE16  265 non-null    object  \n",
      " 4   SA3_NAME16  265 non-null    object  \n",
      " 5   SA4_CODE16  265 non-null    object  \n",
      " 6   SA4_NAME16  265 non-null    object  \n",
      " 7   GCC_CODE16  265 non-null    object  \n",
      " 8   GCC_NAME16  265 non-null    object  \n",
      " 9   STE_CODE16  265 non-null    object  \n",
      " 10  STE_NAME16  265 non-null    object  \n",
      " 11  AREASQKM16  265 non-null    float64 \n",
      " 12  Name        1 non-null      object  \n",
      " 13  geometry    265 non-null    geometry\n",
      "dtypes: float64(1), geometry(1), object(12)\n",
      "memory usage: 29.1+ KB\n"
     ]
    }
   ],
   "source": [
    "ucl_shape_sa2.info()\n",
    "ucl_shape_sa2.drop('Name',axis=1,inplace=True)"
   ]
  },
  {
   "cell_type": "code",
   "execution_count": 40,
   "metadata": {},
   "outputs": [],
   "source": [
    "ucl_shape_sa2.dropna(inplace=True)"
   ]
  },
  {
   "cell_type": "code",
   "execution_count": 41,
   "metadata": {},
   "outputs": [],
   "source": [
    "twt_gdf_sub = twt_gdf[500:1000]"
   ]
  },
  {
   "cell_type": "code",
   "execution_count": null,
   "metadata": {},
   "outputs": [],
   "source": [
    "figure, ax = plt.subplots(figsize=(14,10))\n",
    "base = ucl_shape_sa2.plot(ax=ax)\n",
    "twt_gdf_sub.plot(ax=base, markersize=1, color=\"Red\")\n",
    "lims=plt.axis(\"equal\")\n",
    "ax.set_axis_off()\n",
    "\n",
    "ax.set_title('Tweets in Sydney UCL', fontdict= \n",
    "            {'fontsize':25})\n",
    "\n",
    "plt.show()"
   ]
  },
  {
   "cell_type": "markdown",
   "metadata": {},
   "source": [
    "This is still pretty stupid and uninformative, but at least it's a bit bigger! Maybe we can work on a spatial join so that we can get the tweets that fall just outside of Greater Sydney removed from our dataset"
   ]
  },
  {
   "cell_type": "code",
   "execution_count": 42,
   "metadata": {},
   "outputs": [],
   "source": [
    "twtsa2_gdf = gpd.sjoin(twt_gdf,ucl_shape_sa2,how='left',op='within').copy()"
   ]
  },
  {
   "cell_type": "code",
   "execution_count": 43,
   "metadata": {},
   "outputs": [],
   "source": [
    "twtsa2_gdf.dropna(inplace=True)"
   ]
  },
  {
   "cell_type": "code",
   "execution_count": 44,
   "metadata": {},
   "outputs": [
    {
     "data": {
      "text/html": [
       "<div>\n",
       "<style scoped>\n",
       "    .dataframe tbody tr th:only-of-type {\n",
       "        vertical-align: middle;\n",
       "    }\n",
       "\n",
       "    .dataframe tbody tr th {\n",
       "        vertical-align: top;\n",
       "    }\n",
       "\n",
       "    .dataframe thead th {\n",
       "        text-align: right;\n",
       "    }\n",
       "</style>\n",
       "<table border=\"1\" class=\"dataframe\">\n",
       "  <thead>\n",
       "    <tr style=\"text-align: right;\">\n",
       "      <th></th>\n",
       "      <th>id</th>\n",
       "      <th>created_at</th>\n",
       "      <th>text</th>\n",
       "      <th>u_id</th>\n",
       "      <th>u_name</th>\n",
       "      <th>u_created_at</th>\n",
       "      <th>u_description</th>\n",
       "      <th>u_followers_count</th>\n",
       "      <th>type</th>\n",
       "      <th>c_country</th>\n",
       "      <th>u_screen_name</th>\n",
       "      <th>u_friends_count</th>\n",
       "      <th>location.lon</th>\n",
       "      <th>location.lat</th>\n",
       "      <th>timestamp</th>\n",
       "      <th>date</th>\n",
       "      <th>SA2_MAIN16</th>\n",
       "      <th>SA2_5DIG16</th>\n",
       "      <th>SA2_NAME16</th>\n",
       "      <th>AREASQKM16</th>\n",
       "    </tr>\n",
       "  </thead>\n",
       "  <tbody>\n",
       "    <tr>\n",
       "      <th>0</th>\n",
       "      <td>227410653344841728</td>\n",
       "      <td>1.343054e+12</td>\n",
       "      <td>@DaintyAintMe one hyphenated word for you my l...</td>\n",
       "      <td>421108959</td>\n",
       "      <td>jcaldwellau</td>\n",
       "      <td>1.322231e+12</td>\n",
       "      <td>• Lascivious • Serial Flirt • Daring • Music l...</td>\n",
       "      <td>3877</td>\n",
       "      <td>ll</td>\n",
       "      <td>AUS</td>\n",
       "      <td>JCaldwellAu</td>\n",
       "      <td>339</td>\n",
       "      <td>151.219627</td>\n",
       "      <td>-33.878069</td>\n",
       "      <td>2012-07-23 14:31:39</td>\n",
       "      <td>2012-07-23</td>\n",
       "      <td>117031329</td>\n",
       "      <td>11329</td>\n",
       "      <td>Darlinghurst</td>\n",
       "      <td>0.8569</td>\n",
       "    </tr>\n",
       "    <tr>\n",
       "      <th>1</th>\n",
       "      <td>227395003947810817</td>\n",
       "      <td>1.343050e+12</td>\n",
       "      <td>Optus在strathfield附近的基站是不是出故障了，各种network lost...</td>\n",
       "      <td>22230298</td>\n",
       "      <td>McKay Wei </td>\n",
       "      <td>1.235797e+12</td>\n",
       "      <td>I make things on the web. #SocialMediaEnthusia...</td>\n",
       "      <td>1023</td>\n",
       "      <td>ll</td>\n",
       "      <td>AUS</td>\n",
       "      <td>McKayWei</td>\n",
       "      <td>850</td>\n",
       "      <td>151.089056</td>\n",
       "      <td>-33.869059</td>\n",
       "      <td>2012-07-23 13:29:28</td>\n",
       "      <td>2012-07-23</td>\n",
       "      <td>120031575</td>\n",
       "      <td>11575</td>\n",
       "      <td>Strathfield</td>\n",
       "      <td>6.4515</td>\n",
       "    </tr>\n",
       "    <tr>\n",
       "      <th>2</th>\n",
       "      <td>227395554844483584</td>\n",
       "      <td>1.343050e+12</td>\n",
       "      <td>@heyfeebs nah it was at 2am... and hopefully n...</td>\n",
       "      <td>26226128</td>\n",
       "      <td>Daniel Baluyot</td>\n",
       "      <td>1.237898e+12</td>\n",
       "      <td>17 year old Filipino, I'm a Sydneysider. I'll ...</td>\n",
       "      <td>148</td>\n",
       "      <td>ll</td>\n",
       "      <td>AUS</td>\n",
       "      <td>jhimdaniel</td>\n",
       "      <td>152</td>\n",
       "      <td>150.947871</td>\n",
       "      <td>-33.798275</td>\n",
       "      <td>2012-07-23 13:31:39</td>\n",
       "      <td>2012-07-23</td>\n",
       "      <td>125041588</td>\n",
       "      <td>11588</td>\n",
       "      <td>Pendle Hill - Girraween</td>\n",
       "      <td>4.4615</td>\n",
       "    </tr>\n",
       "    <tr>\n",
       "      <th>3</th>\n",
       "      <td>227397391727333376</td>\n",
       "      <td>1.343051e+12</td>\n",
       "      <td>@JUSECALO @AndreaSernaRCN si el apuntador dict...</td>\n",
       "      <td>149103289</td>\n",
       "      <td>Menchita</td>\n",
       "      <td>1.275050e+12</td>\n",
       "      <td>Colombiana 100% paisa. Amo el cine, la buena c...</td>\n",
       "      <td>16</td>\n",
       "      <td>ll</td>\n",
       "      <td>AUS</td>\n",
       "      <td>Guizmito</td>\n",
       "      <td>91</td>\n",
       "      <td>151.178006</td>\n",
       "      <td>-33.809274</td>\n",
       "      <td>2012-07-23 13:38:57</td>\n",
       "      <td>2012-07-23</td>\n",
       "      <td>121011399</td>\n",
       "      <td>11399</td>\n",
       "      <td>Chatswood (West) - Lane Cove North</td>\n",
       "      <td>5.5372</td>\n",
       "    </tr>\n",
       "    <tr>\n",
       "      <th>4</th>\n",
       "      <td>227398082562768896</td>\n",
       "      <td>1.343051e+12</td>\n",
       "      <td>@nichteo1995 cause we didnt meet before I leav...</td>\n",
       "      <td>464020712</td>\n",
       "      <td>Julia</td>\n",
       "      <td>1.326568e+12</td>\n",
       "      <td>Done trusting people.</td>\n",
       "      <td>69</td>\n",
       "      <td>ll</td>\n",
       "      <td>AUS</td>\n",
       "      <td>justjuliac</td>\n",
       "      <td>68</td>\n",
       "      <td>151.222993</td>\n",
       "      <td>-33.912209</td>\n",
       "      <td>2012-07-23 13:41:42</td>\n",
       "      <td>2012-07-23</td>\n",
       "      <td>118021564</td>\n",
       "      <td>11564</td>\n",
       "      <td>Kensington (NSW)</td>\n",
       "      <td>2.6422</td>\n",
       "    </tr>\n",
       "  </tbody>\n",
       "</table>\n",
       "</div>"
      ],
      "text/plain": [
       "                   id    created_at  \\\n",
       "0  227410653344841728  1.343054e+12   \n",
       "1  227395003947810817  1.343050e+12   \n",
       "2  227395554844483584  1.343050e+12   \n",
       "3  227397391727333376  1.343051e+12   \n",
       "4  227398082562768896  1.343051e+12   \n",
       "\n",
       "                                                text       u_id  \\\n",
       "0  @DaintyAintMe one hyphenated word for you my l...  421108959   \n",
       "1    Optus在strathfield附近的基站是不是出故障了，各种network lost...   22230298   \n",
       "2  @heyfeebs nah it was at 2am... and hopefully n...   26226128   \n",
       "3  @JUSECALO @AndreaSernaRCN si el apuntador dict...  149103289   \n",
       "4  @nichteo1995 cause we didnt meet before I leav...  464020712   \n",
       "\n",
       "           u_name  u_created_at  \\\n",
       "0     jcaldwellau  1.322231e+12   \n",
       "1     McKay Wei   1.235797e+12   \n",
       "2  Daniel Baluyot  1.237898e+12   \n",
       "3        Menchita  1.275050e+12   \n",
       "4           Julia  1.326568e+12   \n",
       "\n",
       "                                       u_description  u_followers_count type  \\\n",
       "0  • Lascivious • Serial Flirt • Daring • Music l...               3877   ll   \n",
       "1  I make things on the web. #SocialMediaEnthusia...               1023   ll   \n",
       "2  17 year old Filipino, I'm a Sydneysider. I'll ...                148   ll   \n",
       "3  Colombiana 100% paisa. Amo el cine, la buena c...                 16   ll   \n",
       "4                             Done trusting people.                  69   ll   \n",
       "\n",
       "  c_country u_screen_name  u_friends_count  location.lon  location.lat  \\\n",
       "0       AUS   JCaldwellAu              339    151.219627    -33.878069   \n",
       "1       AUS      McKayWei              850    151.089056    -33.869059   \n",
       "2       AUS    jhimdaniel              152    150.947871    -33.798275   \n",
       "3       AUS      Guizmito               91    151.178006    -33.809274   \n",
       "4       AUS    justjuliac               68    151.222993    -33.912209   \n",
       "\n",
       "            timestamp       date SA2_MAIN16 SA2_5DIG16  \\\n",
       "0 2012-07-23 14:31:39 2012-07-23  117031329      11329   \n",
       "1 2012-07-23 13:29:28 2012-07-23  120031575      11575   \n",
       "2 2012-07-23 13:31:39 2012-07-23  125041588      11588   \n",
       "3 2012-07-23 13:38:57 2012-07-23  121011399      11399   \n",
       "4 2012-07-23 13:41:42 2012-07-23  118021564      11564   \n",
       "\n",
       "                           SA2_NAME16  AREASQKM16  \n",
       "0                        Darlinghurst      0.8569  \n",
       "1                         Strathfield      6.4515  \n",
       "2             Pendle Hill - Girraween      4.4615  \n",
       "3  Chatswood (West) - Lane Cove North      5.5372  \n",
       "4                    Kensington (NSW)      2.6422  "
      ]
     },
     "execution_count": 44,
     "metadata": {},
     "output_type": "execute_result"
    }
   ],
   "source": [
    "twtsa2_gdf.drop(['index_right','SA3_CODE16','SA3_NAME16','SA4_CODE16','SA4_NAME16','GCC_CODE16','GCC_NAME16',\n",
    "                'STE_CODE16','STE_NAME16', 'geometry'],\n",
    "                axis=1,\n",
    "                inplace=True)\n",
    "twtsa2_gdf.head()"
   ]
  },
  {
   "cell_type": "code",
   "execution_count": 49,
   "metadata": {},
   "outputs": [],
   "source": [
    "twtsa2_gdf.rename(columns={'SA2_MAIN16':'tract_id','SA2_5DIG16':'tract_id_short','SA2_NAME16':'tract_name',\n",
    "                          'location.lon':'longitude','location.lat':'latitude'}, inplace=True)"
   ]
  },
  {
   "cell_type": "code",
   "execution_count": 50,
   "metadata": {},
   "outputs": [],
   "source": [
    "twtsa2_gdf.to_csv('C:\\\\Users\\\\emman\\\\desktop\\\\Sydney_UCL_Twitter.csv')"
   ]
  },
  {
   "cell_type": "code",
   "execution_count": 47,
   "metadata": {},
   "outputs": [
    {
     "data": {
      "text/html": [
       "<div>\n",
       "<style scoped>\n",
       "    .dataframe tbody tr th:only-of-type {\n",
       "        vertical-align: middle;\n",
       "    }\n",
       "\n",
       "    .dataframe tbody tr th {\n",
       "        vertical-align: top;\n",
       "    }\n",
       "\n",
       "    .dataframe thead th {\n",
       "        text-align: right;\n",
       "    }\n",
       "</style>\n",
       "<table border=\"1\" class=\"dataframe\">\n",
       "  <thead>\n",
       "    <tr style=\"text-align: right;\">\n",
       "      <th></th>\n",
       "      <th>Unnamed: 0</th>\n",
       "      <th>id</th>\n",
       "      <th>created_at</th>\n",
       "      <th>text</th>\n",
       "      <th>u_id</th>\n",
       "      <th>u_name</th>\n",
       "      <th>u_created_at</th>\n",
       "      <th>u_description</th>\n",
       "      <th>u_followers_count</th>\n",
       "      <th>type</th>\n",
       "      <th>c_country</th>\n",
       "      <th>u_screen_name</th>\n",
       "      <th>u_friends_count</th>\n",
       "      <th>location.lon</th>\n",
       "      <th>location.lat</th>\n",
       "      <th>timestamp</th>\n",
       "      <th>date</th>\n",
       "      <th>SA2_MAIN16</th>\n",
       "      <th>SA2_5DIG16</th>\n",
       "      <th>SA2_NAME16</th>\n",
       "      <th>AREASQKM16</th>\n",
       "    </tr>\n",
       "  </thead>\n",
       "  <tbody>\n",
       "    <tr>\n",
       "      <th>0</th>\n",
       "      <td>0</td>\n",
       "      <td>227410653344841728</td>\n",
       "      <td>1.343054e+12</td>\n",
       "      <td>@DaintyAintMe one hyphenated word for you my l...</td>\n",
       "      <td>421108959</td>\n",
       "      <td>jcaldwellau</td>\n",
       "      <td>1.322231e+12</td>\n",
       "      <td>• Lascivious • Serial Flirt • Daring • Music l...</td>\n",
       "      <td>3877</td>\n",
       "      <td>ll</td>\n",
       "      <td>AUS</td>\n",
       "      <td>JCaldwellAu</td>\n",
       "      <td>339</td>\n",
       "      <td>151.219627</td>\n",
       "      <td>-33.878069</td>\n",
       "      <td>2012-07-23 14:31:39</td>\n",
       "      <td>2012-07-23 00:00:00</td>\n",
       "      <td>117031329</td>\n",
       "      <td>11329</td>\n",
       "      <td>Darlinghurst</td>\n",
       "      <td>0.8569</td>\n",
       "    </tr>\n",
       "    <tr>\n",
       "      <th>1</th>\n",
       "      <td>1</td>\n",
       "      <td>227395003947810817</td>\n",
       "      <td>1.343050e+12</td>\n",
       "      <td>Optus在strathfield附近的基站是不是出故障了，各种network lost...</td>\n",
       "      <td>22230298</td>\n",
       "      <td>McKay Wei </td>\n",
       "      <td>1.235797e+12</td>\n",
       "      <td>I make things on the web. #SocialMediaEnthusia...</td>\n",
       "      <td>1023</td>\n",
       "      <td>ll</td>\n",
       "      <td>AUS</td>\n",
       "      <td>McKayWei</td>\n",
       "      <td>850</td>\n",
       "      <td>151.089056</td>\n",
       "      <td>-33.869059</td>\n",
       "      <td>2012-07-23 13:29:28</td>\n",
       "      <td>2012-07-23 00:00:00</td>\n",
       "      <td>120031575</td>\n",
       "      <td>11575</td>\n",
       "      <td>Strathfield</td>\n",
       "      <td>6.4515</td>\n",
       "    </tr>\n",
       "    <tr>\n",
       "      <th>2</th>\n",
       "      <td>2</td>\n",
       "      <td>227395554844483584</td>\n",
       "      <td>1.343050e+12</td>\n",
       "      <td>@heyfeebs nah it was at 2am... and hopefully n...</td>\n",
       "      <td>26226128</td>\n",
       "      <td>Daniel Baluyot</td>\n",
       "      <td>1.237898e+12</td>\n",
       "      <td>17 year old Filipino, I'm a Sydneysider. I'll ...</td>\n",
       "      <td>148</td>\n",
       "      <td>ll</td>\n",
       "      <td>AUS</td>\n",
       "      <td>jhimdaniel</td>\n",
       "      <td>152</td>\n",
       "      <td>150.947871</td>\n",
       "      <td>-33.798275</td>\n",
       "      <td>2012-07-23 13:31:39</td>\n",
       "      <td>2012-07-23 00:00:00</td>\n",
       "      <td>125041588</td>\n",
       "      <td>11588</td>\n",
       "      <td>Pendle Hill - Girraween</td>\n",
       "      <td>4.4615</td>\n",
       "    </tr>\n",
       "    <tr>\n",
       "      <th>3</th>\n",
       "      <td>3</td>\n",
       "      <td>227397391727333376</td>\n",
       "      <td>1.343051e+12</td>\n",
       "      <td>@JUSECALO @AndreaSernaRCN si el apuntador dict...</td>\n",
       "      <td>149103289</td>\n",
       "      <td>Menchita</td>\n",
       "      <td>1.275050e+12</td>\n",
       "      <td>Colombiana 100% paisa. Amo el cine, la buena c...</td>\n",
       "      <td>16</td>\n",
       "      <td>ll</td>\n",
       "      <td>AUS</td>\n",
       "      <td>Guizmito</td>\n",
       "      <td>91</td>\n",
       "      <td>151.178006</td>\n",
       "      <td>-33.809274</td>\n",
       "      <td>2012-07-23 13:38:57</td>\n",
       "      <td>2012-07-23 00:00:00</td>\n",
       "      <td>121011399</td>\n",
       "      <td>11399</td>\n",
       "      <td>Chatswood (West) - Lane Cove North</td>\n",
       "      <td>5.5372</td>\n",
       "    </tr>\n",
       "    <tr>\n",
       "      <th>4</th>\n",
       "      <td>4</td>\n",
       "      <td>227398082562768896</td>\n",
       "      <td>1.343051e+12</td>\n",
       "      <td>@nichteo1995 cause we didnt meet before I leav...</td>\n",
       "      <td>464020712</td>\n",
       "      <td>Julia</td>\n",
       "      <td>1.326568e+12</td>\n",
       "      <td>Done trusting people.</td>\n",
       "      <td>69</td>\n",
       "      <td>ll</td>\n",
       "      <td>AUS</td>\n",
       "      <td>justjuliac</td>\n",
       "      <td>68</td>\n",
       "      <td>151.222993</td>\n",
       "      <td>-33.912209</td>\n",
       "      <td>2012-07-23 13:41:42</td>\n",
       "      <td>2012-07-23 00:00:00</td>\n",
       "      <td>118021564</td>\n",
       "      <td>11564</td>\n",
       "      <td>Kensington (NSW)</td>\n",
       "      <td>2.6422</td>\n",
       "    </tr>\n",
       "    <tr>\n",
       "      <th>...</th>\n",
       "      <td>...</td>\n",
       "      <td>...</td>\n",
       "      <td>...</td>\n",
       "      <td>...</td>\n",
       "      <td>...</td>\n",
       "      <td>...</td>\n",
       "      <td>...</td>\n",
       "      <td>...</td>\n",
       "      <td>...</td>\n",
       "      <td>...</td>\n",
       "      <td>...</td>\n",
       "      <td>...</td>\n",
       "      <td>...</td>\n",
       "      <td>...</td>\n",
       "      <td>...</td>\n",
       "      <td>...</td>\n",
       "      <td>...</td>\n",
       "      <td>...</td>\n",
       "      <td>...</td>\n",
       "      <td>...</td>\n",
       "      <td>...</td>\n",
       "    </tr>\n",
       "    <tr>\n",
       "      <th>6043339</th>\n",
       "      <td>7262128</td>\n",
       "      <td>793342442187599873</td>\n",
       "      <td>1.477983e+12</td>\n",
       "      <td>bump bump 👌👌 (at @fitnfastgyms) — https://t.co...</td>\n",
       "      <td>310884150</td>\n",
       "      <td>Giovani</td>\n",
       "      <td>1.307198e+12</td>\n",
       "      <td>NPhotography</td>\n",
       "      <td>431</td>\n",
       "      <td>llp</td>\n",
       "      <td>AUS</td>\n",
       "      <td>NiniPhang</td>\n",
       "      <td>296</td>\n",
       "      <td>151.207890</td>\n",
       "      <td>-33.876530</td>\n",
       "      <td>2016-11-01 06:42:32</td>\n",
       "      <td>2016-11-01 00:00:00</td>\n",
       "      <td>117031337</td>\n",
       "      <td>11337</td>\n",
       "      <td>Sydney - Haymarket - The Rocks</td>\n",
       "      <td>4.2934</td>\n",
       "    </tr>\n",
       "    <tr>\n",
       "      <th>6043340</th>\n",
       "      <td>7262129</td>\n",
       "      <td>793316400756424704</td>\n",
       "      <td>1.477976e+12</td>\n",
       "      <td>SBS 2, @sbs2 is now trending in Australia http...</td>\n",
       "      <td>211362581</td>\n",
       "      <td>Trends Australia</td>\n",
       "      <td>1.288748e+12</td>\n",
       "      <td>Real-time Australian Twitter trends.\\nStart a ...</td>\n",
       "      <td>13738</td>\n",
       "      <td>llp</td>\n",
       "      <td>AUS</td>\n",
       "      <td>TrendsAustralia</td>\n",
       "      <td>3661</td>\n",
       "      <td>151.207000</td>\n",
       "      <td>-33.867100</td>\n",
       "      <td>2016-11-01 04:59:03</td>\n",
       "      <td>2016-11-01 00:00:00</td>\n",
       "      <td>117031337</td>\n",
       "      <td>11337</td>\n",
       "      <td>Sydney - Haymarket - The Rocks</td>\n",
       "      <td>4.2934</td>\n",
       "    </tr>\n",
       "    <tr>\n",
       "      <th>6043341</th>\n",
       "      <td>7262130</td>\n",
       "      <td>793326275314102272</td>\n",
       "      <td>1.477979e+12</td>\n",
       "      <td>Mother Jones, @motherjones is now trending in ...</td>\n",
       "      <td>211362581</td>\n",
       "      <td>Trends Australia</td>\n",
       "      <td>1.288748e+12</td>\n",
       "      <td>Real-time Australian Twitter trends.\\nStart a ...</td>\n",
       "      <td>13738</td>\n",
       "      <td>llp</td>\n",
       "      <td>AUS</td>\n",
       "      <td>TrendsAustralia</td>\n",
       "      <td>3661</td>\n",
       "      <td>151.207000</td>\n",
       "      <td>-33.867100</td>\n",
       "      <td>2016-11-01 05:38:17</td>\n",
       "      <td>2016-11-01 00:00:00</td>\n",
       "      <td>117031337</td>\n",
       "      <td>11337</td>\n",
       "      <td>Sydney - Haymarket - The Rocks</td>\n",
       "      <td>4.2934</td>\n",
       "    </tr>\n",
       "    <tr>\n",
       "      <th>6043342</th>\n",
       "      <td>7262131</td>\n",
       "      <td>793326882448150529</td>\n",
       "      <td>1.477979e+12</td>\n",
       "      <td>#GoodLooking #bastards @ Royal Randwick https:...</td>\n",
       "      <td>11922192</td>\n",
       "      <td>John Gakuru</td>\n",
       "      <td>1.199664e+12</td>\n",
       "      <td>Global booze hound!</td>\n",
       "      <td>2295</td>\n",
       "      <td>llp</td>\n",
       "      <td>AUS</td>\n",
       "      <td>johnniesworld</td>\n",
       "      <td>250</td>\n",
       "      <td>151.228963</td>\n",
       "      <td>-33.907359</td>\n",
       "      <td>2016-11-01 05:40:42</td>\n",
       "      <td>2016-11-01 00:00:00</td>\n",
       "      <td>118021570</td>\n",
       "      <td>11570</td>\n",
       "      <td>Randwick - South</td>\n",
       "      <td>3.3726</td>\n",
       "    </tr>\n",
       "    <tr>\n",
       "      <th>6043343</th>\n",
       "      <td>7262132</td>\n",
       "      <td>793336650508013568</td>\n",
       "      <td>1.477981e+12</td>\n",
       "      <td>ADVICE. Hazard Reduction. Sutherland (Bundanoo...</td>\n",
       "      <td>4721717942</td>\n",
       "      <td>NSW Fire Updates</td>\n",
       "      <td>1.452141e+12</td>\n",
       "      <td>NSW RFS Incident feed updates. This is an **un...</td>\n",
       "      <td>335</td>\n",
       "      <td>llp</td>\n",
       "      <td>AUS</td>\n",
       "      <td>RFS_Updates</td>\n",
       "      <td>12</td>\n",
       "      <td>151.023560</td>\n",
       "      <td>-34.036799</td>\n",
       "      <td>2016-11-01 06:19:31</td>\n",
       "      <td>2016-11-01 00:00:00</td>\n",
       "      <td>128021609</td>\n",
       "      <td>11609</td>\n",
       "      <td>Woronora Heights</td>\n",
       "      <td>3.1374</td>\n",
       "    </tr>\n",
       "  </tbody>\n",
       "</table>\n",
       "<p>6043344 rows × 21 columns</p>\n",
       "</div>"
      ],
      "text/plain": [
       "         Unnamed: 0                  id    created_at  \\\n",
       "0                 0  227410653344841728  1.343054e+12   \n",
       "1                 1  227395003947810817  1.343050e+12   \n",
       "2                 2  227395554844483584  1.343050e+12   \n",
       "3                 3  227397391727333376  1.343051e+12   \n",
       "4                 4  227398082562768896  1.343051e+12   \n",
       "...             ...                 ...           ...   \n",
       "6043339     7262128  793342442187599873  1.477983e+12   \n",
       "6043340     7262129  793316400756424704  1.477976e+12   \n",
       "6043341     7262130  793326275314102272  1.477979e+12   \n",
       "6043342     7262131  793326882448150529  1.477979e+12   \n",
       "6043343     7262132  793336650508013568  1.477981e+12   \n",
       "\n",
       "                                                      text        u_id  \\\n",
       "0        @DaintyAintMe one hyphenated word for you my l...   421108959   \n",
       "1          Optus在strathfield附近的基站是不是出故障了，各种network lost...    22230298   \n",
       "2        @heyfeebs nah it was at 2am... and hopefully n...    26226128   \n",
       "3        @JUSECALO @AndreaSernaRCN si el apuntador dict...   149103289   \n",
       "4        @nichteo1995 cause we didnt meet before I leav...   464020712   \n",
       "...                                                    ...         ...   \n",
       "6043339  bump bump 👌👌 (at @fitnfastgyms) — https://t.co...   310884150   \n",
       "6043340  SBS 2, @sbs2 is now trending in Australia http...   211362581   \n",
       "6043341  Mother Jones, @motherjones is now trending in ...   211362581   \n",
       "6043342  #GoodLooking #bastards @ Royal Randwick https:...    11922192   \n",
       "6043343  ADVICE. Hazard Reduction. Sutherland (Bundanoo...  4721717942   \n",
       "\n",
       "                   u_name  u_created_at  \\\n",
       "0             jcaldwellau  1.322231e+12   \n",
       "1             McKay Wei   1.235797e+12   \n",
       "2          Daniel Baluyot  1.237898e+12   \n",
       "3                Menchita  1.275050e+12   \n",
       "4                   Julia  1.326568e+12   \n",
       "...                   ...           ...   \n",
       "6043339           Giovani  1.307198e+12   \n",
       "6043340  Trends Australia  1.288748e+12   \n",
       "6043341  Trends Australia  1.288748e+12   \n",
       "6043342       John Gakuru  1.199664e+12   \n",
       "6043343  NSW Fire Updates  1.452141e+12   \n",
       "\n",
       "                                             u_description  u_followers_count  \\\n",
       "0        • Lascivious • Serial Flirt • Daring • Music l...               3877   \n",
       "1        I make things on the web. #SocialMediaEnthusia...               1023   \n",
       "2        17 year old Filipino, I'm a Sydneysider. I'll ...                148   \n",
       "3        Colombiana 100% paisa. Amo el cine, la buena c...                 16   \n",
       "4                                   Done trusting people.                  69   \n",
       "...                                                    ...                ...   \n",
       "6043339                                       NPhotography                431   \n",
       "6043340  Real-time Australian Twitter trends.\\nStart a ...              13738   \n",
       "6043341  Real-time Australian Twitter trends.\\nStart a ...              13738   \n",
       "6043342                                Global booze hound!               2295   \n",
       "6043343  NSW RFS Incident feed updates. This is an **un...                335   \n",
       "\n",
       "        type c_country    u_screen_name  u_friends_count  location.lon  \\\n",
       "0         ll       AUS      JCaldwellAu              339    151.219627   \n",
       "1         ll       AUS         McKayWei              850    151.089056   \n",
       "2         ll       AUS       jhimdaniel              152    150.947871   \n",
       "3         ll       AUS         Guizmito               91    151.178006   \n",
       "4         ll       AUS       justjuliac               68    151.222993   \n",
       "...      ...       ...              ...              ...           ...   \n",
       "6043339  llp       AUS        NiniPhang              296    151.207890   \n",
       "6043340  llp       AUS  TrendsAustralia             3661    151.207000   \n",
       "6043341  llp       AUS  TrendsAustralia             3661    151.207000   \n",
       "6043342  llp       AUS    johnniesworld              250    151.228963   \n",
       "6043343  llp       AUS      RFS_Updates               12    151.023560   \n",
       "\n",
       "         location.lat            timestamp                 date  SA2_MAIN16  \\\n",
       "0          -33.878069  2012-07-23 14:31:39  2012-07-23 00:00:00   117031329   \n",
       "1          -33.869059  2012-07-23 13:29:28  2012-07-23 00:00:00   120031575   \n",
       "2          -33.798275  2012-07-23 13:31:39  2012-07-23 00:00:00   125041588   \n",
       "3          -33.809274  2012-07-23 13:38:57  2012-07-23 00:00:00   121011399   \n",
       "4          -33.912209  2012-07-23 13:41:42  2012-07-23 00:00:00   118021564   \n",
       "...               ...                  ...                  ...         ...   \n",
       "6043339    -33.876530  2016-11-01 06:42:32  2016-11-01 00:00:00   117031337   \n",
       "6043340    -33.867100  2016-11-01 04:59:03  2016-11-01 00:00:00   117031337   \n",
       "6043341    -33.867100  2016-11-01 05:38:17  2016-11-01 00:00:00   117031337   \n",
       "6043342    -33.907359  2016-11-01 05:40:42  2016-11-01 00:00:00   118021570   \n",
       "6043343    -34.036799  2016-11-01 06:19:31  2016-11-01 00:00:00   128021609   \n",
       "\n",
       "         SA2_5DIG16                          SA2_NAME16  AREASQKM16  \n",
       "0             11329                        Darlinghurst      0.8569  \n",
       "1             11575                         Strathfield      6.4515  \n",
       "2             11588             Pendle Hill - Girraween      4.4615  \n",
       "3             11399  Chatswood (West) - Lane Cove North      5.5372  \n",
       "4             11564                    Kensington (NSW)      2.6422  \n",
       "...             ...                                 ...         ...  \n",
       "6043339       11337      Sydney - Haymarket - The Rocks      4.2934  \n",
       "6043340       11337      Sydney - Haymarket - The Rocks      4.2934  \n",
       "6043341       11337      Sydney - Haymarket - The Rocks      4.2934  \n",
       "6043342       11570                    Randwick - South      3.3726  \n",
       "6043343       11609                    Woronora Heights      3.1374  \n",
       "\n",
       "[6043344 rows x 21 columns]"
      ]
     },
     "execution_count": 47,
     "metadata": {},
     "output_type": "execute_result"
    }
   ],
   "source": [
    "pd.read_csv('C:\\\\Users\\\\emman\\\\desktop\\\\Sydney_UCL_Twitter.csv')"
   ]
  },
  {
   "cell_type": "code",
   "execution_count": null,
   "metadata": {
    "scrolled": true
   },
   "outputs": [],
   "source": [
    "# Select only users with greater than 20 tweets\n",
    "df_20 = twtsa2_gdf.groupby('u_id').filter(lambda group: len(group) > 20)\n",
    "\n",
    "print(df_20.shape)\n",
    "df_20.head()"
   ]
  },
  {
   "cell_type": "markdown",
   "metadata": {},
   "source": [
    "# Extract home location\n",
    "\n",
    "## Ate's methodology for extracting home location:\n",
    "\n",
    "1. Consider tracts satisfying the following properties:\n",
    " * More than 10 tweets total\n",
    " * Sent from more than 10 different days\n",
    " * Sent from more than 8 different hours of the day\n",
    "2. Of the remaining candidates, select the tract with the most tweets\n",
    "\n",
    "\n",
    "\n",
    "### 1a. More than 10 tweets total¶\n",
    "\n",
    "Explanation of code below:\n",
    "\n",
    "1. From our data\n",
    "2. Group by user u_id and tract OBJECTID (assumed to be the tract ID)\n",
    "3. Select only the user-tract combinations for which there are more than MIN_TWEETS tweets (i.e. for each user, select only the tracts with more than MIN_TWEETS tweets)"
   ]
  },
  {
   "cell_type": "code",
   "execution_count": null,
   "metadata": {},
   "outputs": [],
   "source": [
    "df_sample = df_20[:100000]"
   ]
  },
  {
   "cell_type": "code",
   "execution_count": null,
   "metadata": {},
   "outputs": [],
   "source": [
    "# This value should be adjusted when using the entire dataset\n",
    "MIN_TWEETS = 2\n",
    "\n",
    "output_1a = (\n",
    "    df_sample # (1)\n",
    "    .groupby(['u_id', 'SA2_5DIG16']) # (2)\n",
    "    .filter(lambda user_tract: len(user_tract) > MIN_TWEETS) # (3)\n",
    ")"
   ]
  },
  {
   "cell_type": "code",
   "execution_count": null,
   "metadata": {},
   "outputs": [],
   "source": [
    "print(output_1a.shape)\n",
    "output_1a.head()"
   ]
  },
  {
   "cell_type": "code",
   "execution_count": null,
   "metadata": {},
   "outputs": [],
   "source": [
    "# Sanity check\n",
    "# Check documentation for asserthttps://www.tutorialspoint.com/python/assertions_in_python.htm\n",
    "assert all(output_1a.groupby(['u_id', 'SA2_5DIG16']).size() > MIN_TWEETS)"
   ]
  },
  {
   "cell_type": "markdown",
   "metadata": {},
   "source": [
    "## 1b. Sent from more than 10 days"
   ]
  },
  {
   "cell_type": "code",
   "execution_count": null,
   "metadata": {},
   "outputs": [],
   "source": [
    "# First, some cleaning: extract timestamp from tweet data.\n",
    "# Each tweet is recorded in UNIX time, and (for some reason) multiplied by 1000\n",
    "output_1a['timestamp'] = pd.to_datetime(output_1a['created_at'] // 1000, unit='s')\n",
    "output_1a['date'] = output_1a['timestamp'].dt.date\n",
    "\n",
    "output_1a[['id', 'text', 'date','timestamp']].head()"
   ]
  },
  {
   "cell_type": "markdown",
   "metadata": {},
   "source": [
    "Explanation of code below:\n",
    "\n",
    "1. From our data\n",
    "2. Group by user u_id and SA2 MAINCODE\n",
    "3. Select user-SA2 combinations for which there are more than MIN_DAYS unique dates"
   ]
  },
  {
   "cell_type": "code",
   "execution_count": null,
   "metadata": {},
   "outputs": [],
   "source": [
    "# This value should be adjusted when using the full dataset\n",
    "MIN_DAYS = 2\n",
    "\n",
    "output_1b = (\n",
    "    output_1a # (1)\n",
    "    .groupby(['u_id', 'SA2_5DIG16']) # (2)\n",
    "    .filter(lambda user_tract: user_tract['date'].nunique() > MIN_DAYS) # (3)\n",
    ")"
   ]
  },
  {
   "cell_type": "code",
   "execution_count": null,
   "metadata": {},
   "outputs": [],
   "source": [
    "print(output_1b.shape)\n",
    "output_1b.head()"
   ]
  },
  {
   "cell_type": "code",
   "execution_count": null,
   "metadata": {},
   "outputs": [],
   "source": [
    "# Sanity check\n",
    "assert all(output_1b.groupby(['u_id', 'SA2_5DIG16'])['date'].nunique() > MIN_DAYS)"
   ]
  },
  {
   "cell_type": "markdown",
   "metadata": {},
   "source": [
    "### 1c. Sent from more than 8 different hours of the day"
   ]
  },
  {
   "cell_type": "code",
   "execution_count": null,
   "metadata": {},
   "outputs": [],
   "source": [
    "output_1b['hour'] = output_1b['timestamp'].dt.hour\n",
    "output_1b[['id', 'text', 'hour']].head()"
   ]
  },
  {
   "cell_type": "markdown",
   "metadata": {},
   "source": [
    "Explanation of code below:\n",
    "\n",
    "1. From our data\n",
    "2. Group by user u_id and SA2 MAINCODE\n",
    "3. Select user-tract combinations for which there are more than MIN_HOURS unique hours"
   ]
  },
  {
   "cell_type": "code",
   "execution_count": null,
   "metadata": {},
   "outputs": [],
   "source": [
    "# This value should be adjusted when using the full dataset\n",
    "MIN_HOURS = 4\n",
    "\n",
    "output_1c = (\n",
    "    output_1b # (1)\n",
    "    .groupby(['u_id', 'SA2_5DIG16']) # (2)\n",
    "    .filter(lambda user_tract: user_tract['hour'].nunique() > MIN_HOURS) # (3)\n",
    ")"
   ]
  },
  {
   "cell_type": "code",
   "execution_count": null,
   "metadata": {},
   "outputs": [],
   "source": [
    "print(output_1c.shape)\n",
    "output_1c.head()"
   ]
  },
  {
   "cell_type": "code",
   "execution_count": null,
   "metadata": {},
   "outputs": [],
   "source": [
    "# Sanity check\n",
    "assert all(output_1c.groupby(['u_id', 'SA2_5DIG16'])['hour'].nunique() > MIN_HOURS)"
   ]
  },
  {
   "cell_type": "markdown",
   "metadata": {},
   "source": [
    "## 2. Of the remaining candidates, select the tract with the most tweets"
   ]
  },
  {
   "cell_type": "code",
   "execution_count": null,
   "metadata": {},
   "outputs": [],
   "source": [
    "# View number of tweets per user per tract\n",
    "output_1c.groupby(['u_id', 'SA2_5DIG16']).size()"
   ]
  },
  {
   "cell_type": "markdown",
   "metadata": {},
   "source": [
    "It looks to be the case that there are some users that have more than one tract satisfying all three constraints specified in 1a-1c. Thus for all users, we select the most frequent tract.\n",
    "\n",
    "Explanation of code below:\n",
    "\n",
    "1. From our data\n",
    "2. Group by user u_id and tract SA2_5DIG16\n",
    "3. Find the number of observations in each user-tract combination\n",
    "4. Name the resulting pd.Series count, then convert into a pd.DataFrame\n",
    "5. At this point, we have a DataFrame with each row representing one user-tract combination. There are three variables: u_id, SA2_5DIG16, and count (which represents the number of tweets recorded at the user-tract combination). Sort the rows in descending order by count, so that the first row that a given u_id appears corresponds to the SA2_5DIG16 for which it has the most tweets.\n",
    "6. Select the u_id and OBJECTID columns in preparation for grouping.\n",
    "7. Group by u_id so that each group represents a user, and each observation inside the group is an OBJECTID. The ordering should still stay consistent with step 5, i.e. the first observation in each group corresponds to the OBJECTID at which the user tweeted the most.\n",
    "8. Select that first observation, to result in the DataFrame shown below\n",
    "9. Rename column for convenience\n",
    "10. Convert into pd.Series for convenience"
   ]
  },
  {
   "cell_type": "code",
   "execution_count": null,
   "metadata": {},
   "outputs": [],
   "source": [
    "home_locations = (\n",
    "    output_1c # (1)\n",
    "    .groupby(['u_id', 'SA2_5DIG16']) # (2)\n",
    "    .size() # (3)\n",
    "    .reset_index(name='count') # (4)\n",
    "    .sort_values('count', ascending=False) # (5)\n",
    "    .loc[:, ['u_id', 'SA2_5DIG16']] # (6)\n",
    "    .groupby('u_id') # (7)\n",
    "    .first() # (8)\n",
    "    .rename(columns={'SA2_5DIG16':'home_sa2'}) # (9)\n",
    "    .loc[:, 'home_sa2'] # (10)\n",
    ")"
   ]
  },
  {
   "cell_type": "code",
   "execution_count": null,
   "metadata": {},
   "outputs": [],
   "source": [
    "# Sanity check: We should have one home location for each unique user in output_1c \n",
    "assert len(home_locations) == output_1c['u_id'].nunique()"
   ]
  },
  {
   "cell_type": "code",
   "execution_count": null,
   "metadata": {},
   "outputs": [],
   "source": [
    "# Assign each tweet a home_tract based on home_locations\n",
    "# Using .map is orders of magnitudes faster than using a join\n",
    "df_sample['home_sa2'] = df_sample['u_id'].map(home_locations.to_dict())"
   ]
  },
  {
   "cell_type": "code",
   "execution_count": null,
   "metadata": {},
   "outputs": [],
   "source": [
    "# Preprocessing necessary for function\n",
    "df_sample['timestamp'] = pd.to_datetime(df_sample['created_at'] // 1000, unit='s')\n",
    "df_sample['date'] = df_sample['timestamp'].dt.date\n",
    "df_sample['hour'] = df_sample['timestamp'].dt.hour\n",
    "df_sample['SA2_5DIG16'].astype(str)"
   ]
  },
  {
   "cell_type": "code",
   "execution_count": null,
   "metadata": {},
   "outputs": [],
   "source": [
    "df_sample['home_sa2'] = assign_home_location(df_sample, min_tweets=MIN_TWEETS, min_days=MIN_DAYS, min_hours=MIN_HOURS)\n",
    "df_sample['home_sa2']"
   ]
  },
  {
   "cell_type": "code",
   "execution_count": null,
   "metadata": {},
   "outputs": [],
   "source": [
    "df_sample['home_sa2'].isnull().sum()"
   ]
  },
  {
   "cell_type": "markdown",
   "metadata": {},
   "source": [
    "About 20% of our sample data is not assigned a home location; this is because that user's tweets were all filtered out in part 1a-1c. It remains to be seen how this proportion may change for the entire set of data (as opposed to the sample of 100,000 observations)."
   ]
  },
  {
   "cell_type": "markdown",
   "metadata": {},
   "source": [
    "# Running the full dataset through home location code:"
   ]
  },
  {
   "cell_type": "code",
   "execution_count": null,
   "metadata": {},
   "outputs": [],
   "source": [
    "# This value should be adjusted when using the entire dataset\n",
    "MIN_TWEETS = 2\n",
    "\n",
    "output_1a = (\n",
    "    twtsa2_gdf # (1)\n",
    "    .groupby(['u_id', 'SA2_5DIG16']) # (2)\n",
    "    .filter(lambda user_tract: len(user_tract) > MIN_TWEETS) # (3)\n",
    ")"
   ]
  },
  {
   "cell_type": "code",
   "execution_count": null,
   "metadata": {},
   "outputs": [],
   "source": [
    "print(output_1a.shape)\n",
    "output_1a.head()"
   ]
  },
  {
   "cell_type": "code",
   "execution_count": null,
   "metadata": {},
   "outputs": [],
   "source": [
    "# Sanity check\n",
    "# Check documentation for asserthttps://www.tutorialspoint.com/python/assertions_in_python.htm\n",
    "assert all(output_1a.groupby(['u_id', 'SA2_5DIG16']).size() > MIN_TWEETS)"
   ]
  },
  {
   "cell_type": "code",
   "execution_count": null,
   "metadata": {},
   "outputs": [],
   "source": []
  },
  {
   "cell_type": "code",
   "execution_count": null,
   "metadata": {},
   "outputs": [],
   "source": [
    "# First, some cleaning: extract timestamp from tweet data.\n",
    "# Each tweet is recorded in UNIX time, and (for some reason) multiplied by 1000\n",
    "output_1a['timestamp'] = pd.to_datetime(output_1a['created_at'] // 1000, unit='s')\n",
    "output_1a['date'] = output_1a['timestamp'].dt.date\n",
    "\n",
    "output_1a[['id', 'text', 'date','timestamp']].head()"
   ]
  },
  {
   "cell_type": "code",
   "execution_count": null,
   "metadata": {},
   "outputs": [],
   "source": [
    "# This value should be adjusted when using the full dataset\n",
    "MIN_DAYS = 2\n",
    "\n",
    "output_1b = (\n",
    "    output_1a # (1)\n",
    "    .groupby(['u_id', 'SA2_5DIG16']) # (2)\n",
    "    .filter(lambda user_tract: user_tract['date'].nunique() > MIN_DAYS) # (3)\n",
    ")"
   ]
  },
  {
   "cell_type": "code",
   "execution_count": null,
   "metadata": {},
   "outputs": [],
   "source": [
    "print(output_1b.shape)\n",
    "output_1b.head()"
   ]
  },
  {
   "cell_type": "code",
   "execution_count": null,
   "metadata": {},
   "outputs": [],
   "source": [
    "# Sanity check\n",
    "assert all(output_1b.groupby(['u_id', 'SA2_5DIG16'])['date'].nunique() > MIN_DAYS)"
   ]
  },
  {
   "cell_type": "code",
   "execution_count": null,
   "metadata": {},
   "outputs": [],
   "source": [
    "output_1b['hour'] = output_1b['timestamp'].dt.hour\n",
    "output_1b[['id', 'text', 'hour']].head()"
   ]
  },
  {
   "cell_type": "code",
   "execution_count": null,
   "metadata": {},
   "outputs": [],
   "source": [
    "# This value should be adjusted when using the full dataset\n",
    "MIN_HOURS = 4\n",
    "\n",
    "output_1c = (\n",
    "    output_1b # (1)\n",
    "    .groupby(['u_id', 'SA2_5DIG16']) # (2)\n",
    "    .filter(lambda user_tract: user_tract['hour'].nunique() > MIN_HOURS) # (3)\n",
    ")"
   ]
  },
  {
   "cell_type": "code",
   "execution_count": null,
   "metadata": {},
   "outputs": [],
   "source": [
    "print(output_1c.shape)\n",
    "output_1c.head()"
   ]
  },
  {
   "cell_type": "code",
   "execution_count": null,
   "metadata": {},
   "outputs": [],
   "source": [
    "# Sanity check\n",
    "assert all(output_1c.groupby(['u_id', 'SA2_5DIG16'])['hour'].nunique() > MIN_HOURS)"
   ]
  },
  {
   "cell_type": "code",
   "execution_count": null,
   "metadata": {},
   "outputs": [],
   "source": [
    "# View number of tweets per user per tract\n",
    "output_1c.groupby(['u_id', 'SA2_5DIG16']).size()"
   ]
  },
  {
   "cell_type": "code",
   "execution_count": null,
   "metadata": {},
   "outputs": [],
   "source": [
    "home_locations = (\n",
    "    output_1c # (1)\n",
    "    .groupby(['u_id', 'SA2_5DIG16']) # (2)\n",
    "    .size() # (3)\n",
    "    .reset_index(name='count') # (4)\n",
    "    .sort_values('count', ascending=False) # (5)\n",
    "    .loc[:, ['u_id', 'SA2_5DIG16']] # (6)\n",
    "    .groupby('u_id') # (7)\n",
    "    .first() # (8)\n",
    "    .rename(columns={'SA2_5DIG16':'home_sa2'}) # (9)\n",
    "    .loc[:, 'home_sa2'] # (10)\n",
    ")"
   ]
  },
  {
   "cell_type": "code",
   "execution_count": null,
   "metadata": {},
   "outputs": [],
   "source": [
    "# Sanity check: We should have one home location for each unique user in output_1c \n",
    "assert len(home_locations) == output_1c['u_id'].nunique()"
   ]
  },
  {
   "cell_type": "code",
   "execution_count": null,
   "metadata": {},
   "outputs": [],
   "source": [
    "# Assign each tweet a home_tract based on home_locations\n",
    "# Using .map is orders of magnitudes faster than using a join\n",
    "twtsa2_gdf['home_sa2'] = twtsa2_gdf['u_id'].map(home_locations.to_dict())"
   ]
  },
  {
   "cell_type": "code",
   "execution_count": null,
   "metadata": {},
   "outputs": [],
   "source": [
    "# Preprocessing necessary for function\n",
    "twtsa2_gdf['timestamp'] = pd.to_datetime(twtsa2_gdf['created_at'] // 1000, unit='s')\n",
    "twtsa2_gdf['date'] = twtsa2_gdf['timestamp'].dt.date\n",
    "twtsa2_gdf['hour'] = twtsa2_gdf['timestamp'].dt.hour\n",
    "twtsa2_gdf['SA2_5DIG16']= twtsa2_gdf['SA2_5DIG16'].astype(str)"
   ]
  },
  {
   "cell_type": "code",
   "execution_count": null,
   "metadata": {},
   "outputs": [],
   "source": [
    "twtsa2_gdf['home_sa2'] = assign_home_location(twtsa2_gdf, min_tweets=MIN_TWEETS, min_days=MIN_DAYS, min_hours=MIN_HOURS)\n",
    "twtsa2_gdf['home_sa2']"
   ]
  },
  {
   "cell_type": "code",
   "execution_count": null,
   "metadata": {},
   "outputs": [],
   "source": [
    "twtsa2_gdf['home_sa2'].isnull().sum()"
   ]
  },
  {
   "cell_type": "code",
   "execution_count": null,
   "metadata": {},
   "outputs": [],
   "source": [
    "#twtsa2_gdf.to_file(\"au_twitter.geojson\", driver='GeoJSON')"
   ]
  },
  {
   "cell_type": "code",
   "execution_count": null,
   "metadata": {},
   "outputs": [],
   "source": [
    "#twtsa2_gdf.to_csv('au_twitter.csv')"
   ]
  },
  {
   "cell_type": "code",
   "execution_count": null,
   "metadata": {},
   "outputs": [],
   "source": [
    "twtsa2_gdf.head()"
   ]
  },
  {
   "cell_type": "code",
   "execution_count": null,
   "metadata": {},
   "outputs": [],
   "source": [
    "autwt_2012 = au_twitter.loc[(au_twitter.date>='2012-01-01')&(au_twitter.date<'2013-01-01')]\n",
    "autwt_2013 = au_twitter.loc[(au_twitter.date>='2013-01-01')&(au_twitter.date<='2014-01-01')]\n",
    "autwt_2014 = au_twitter.loc[(au_twitter.date>='2014-01-01')&(au_twitter.date<='2015-01-01')]\n",
    "autwt_2015 = au_twitter.loc[(au_twitter.date>='2015-01-01')&(au_twitter.date<='2016-01-01')]\n",
    "autwt_2016 = au_twitter.loc[(au_twitter.date>='2015-01-01')&(au_twitter.date<='2017-01-01')]"
   ]
  },
  {
   "cell_type": "code",
   "execution_count": null,
   "metadata": {},
   "outputs": [],
   "source": [
    "save_path = Path(\"C:/Users/emman/Box/Spring 2020/Displacement Studio/Datasets/\")"
   ]
  },
  {
   "cell_type": "code",
   "execution_count": null,
   "metadata": {},
   "outputs": [],
   "source": [
    "autwt_2012.to_csv(save_path/'AUST_TWT_2012.csv')"
   ]
  },
  {
   "cell_type": "code",
   "execution_count": null,
   "metadata": {},
   "outputs": [],
   "source": [
    "autwt_2013.to_csv(save_path/'AUST_TWT_2013.csv')"
   ]
  },
  {
   "cell_type": "code",
   "execution_count": null,
   "metadata": {},
   "outputs": [],
   "source": [
    "autwt_2014.to_csv(save_path/'AUST_TWT_2014.csv')"
   ]
  },
  {
   "cell_type": "code",
   "execution_count": null,
   "metadata": {},
   "outputs": [],
   "source": [
    "autwt_2015.to_csv(save_path/'AUST_TWT_2015.csv')"
   ]
  },
  {
   "cell_type": "code",
   "execution_count": null,
   "metadata": {},
   "outputs": [],
   "source": [
    "autwt_2016.to_csv(save_path/'AUST_TWT_2016.csv')"
   ]
  }
 ],
 "metadata": {
  "kernelspec": {
   "display_name": "Python 3",
   "language": "python",
   "name": "python3"
  },
  "language_info": {
   "codemirror_mode": {
    "name": "ipython",
    "version": 3
   },
   "file_extension": ".py",
   "mimetype": "text/x-python",
   "name": "python",
   "nbconvert_exporter": "python",
   "pygments_lexer": "ipython3",
   "version": "3.7.7"
  }
 },
 "nbformat": 4,
 "nbformat_minor": 4
}
