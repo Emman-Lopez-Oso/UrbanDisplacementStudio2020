{
 "cells": [
  {
   "cell_type": "code",
   "execution_count": 1,
   "metadata": {},
   "outputs": [],
   "source": [
    "import pandas as pd\n",
    "import numpy as np\n",
    "import matplotlib.pyplot as plt\n",
    "from shapely.geometry import Point, Polygon, shape\n",
    "import geopandas as gpd\n",
    "import pickle\n",
    "import os\n",
    "import sys\n",
    "from pathlib import Path, PureWindowsPath\n",
    "\n",
    "# Import custom functions from `scripts` folder\n",
    "module_path = os.path.abspath(os.path.join('..'))\n",
    "if module_path not in sys.path:\n",
    "    sys.path.append(module_path)\n",
    "from scripts.clean_tweets import geometrize_tweets, convert_shapefile_crs, find_frequencies\n",
    "\n",
    "np.random.seed(42)\n",
    "pd.set_option('display.max_columns', 999)\n",
    "data_path = Path(\"C:/Users/emman/Box/Spring 2020/Displacement Studio/Datasets/\")\n",
    "shape_path = Path(\"C:/Users/emman/Box/Spring 2020/Displacement Studio/Shared 228 Sydney Folder/SA2 Shapefiles/\")\n",
    "\n",
    "dv_analysis_path =  Path(\"C:/Users/emman/Box/Spring 2020/Displacement Studio/Shared 228 Sydney Folder/AU Work/MasterTypologyFolder\")\n",
    "sa2_w_dv = pd.read_csv(dv_analysis_path/'dummies_t3_corridor.csv')"
   ]
  },
  {
   "cell_type": "code",
   "execution_count": 2,
   "metadata": {},
   "outputs": [],
   "source": [
    "# read twitter data from 2012-2016 respectively\n",
    "au12 = pd.read_csv(data_path/'au_twt2012.csv')\n",
    "au13 = pd.read_csv(data_path/'au_twt2013.csv')\n",
    "au14 = pd.read_csv(data_path/'au_twt2014.csv')\n",
    "au15 = pd.read_csv(data_path/'au_twt2015.csv')\n",
    "au16 = pd.read_csv(data_path/'au_twt2016.csv')"
   ]
  },
  {
   "cell_type": "code",
   "execution_count": 3,
   "metadata": {},
   "outputs": [
    {
     "name": "stderr",
     "output_type": "stream",
     "text": [
      "C:\\Users\\emman\\AppData\\Local\\Continuum\\anaconda3\\lib\\site-packages\\pyproj\\crs\\crs.py:53: FutureWarning: '+init=<authority>:<code>' syntax is deprecated. '<authority>:<code>' is the preferred initialization method. When making the change, be mindful of axis order changes: https://pyproj4.github.io/pyproj/stable/gotchas.html#axis-order-changes-in-proj-6\n",
      "  return _prepare_from_string(\" \".join(pjargs))\n"
     ]
    }
   ],
   "source": [
    "# Convert to GeoDataFrame based on lat/lon\n",
    "au12 = geometrize_tweets(au12)"
   ]
  },
  {
   "cell_type": "code",
   "execution_count": 4,
   "metadata": {},
   "outputs": [],
   "source": [
    "au13 = geometrize_tweets(au13)"
   ]
  },
  {
   "cell_type": "code",
   "execution_count": 5,
   "metadata": {},
   "outputs": [],
   "source": [
    "au14 = geometrize_tweets(au14)"
   ]
  },
  {
   "cell_type": "code",
   "execution_count": 6,
   "metadata": {},
   "outputs": [],
   "source": [
    "au15 = geometrize_tweets(au15)"
   ]
  },
  {
   "cell_type": "code",
   "execution_count": 7,
   "metadata": {},
   "outputs": [],
   "source": [
    "au16 = geometrize_tweets(au16)"
   ]
  },
  {
   "cell_type": "code",
   "execution_count": 8,
   "metadata": {},
   "outputs": [],
   "source": [
    "# Read Australia SA2 shapefiles sa2_ucl\n",
    "syd_ucl_sa2 = gpd.read_file(shape_path/'sa2_ucl.dbf')\n",
    "# We also need to change the crs \n",
    "syd_ucl_sa2.crs = {'init': 'epsg:4326'}"
   ]
  },
  {
   "cell_type": "code",
   "execution_count": 9,
   "metadata": {},
   "outputs": [
    {
     "name": "stdout",
     "output_type": "stream",
     "text": [
      "<class 'geopandas.geodataframe.GeoDataFrame'>\n",
      "RangeIndex: 265 entries, 0 to 264\n",
      "Data columns (total 13 columns):\n",
      " #   Column      Non-Null Count  Dtype   \n",
      "---  ------      --------------  -----   \n",
      " 0   SA2_MAIN16  265 non-null    object  \n",
      " 1   SA2_5DIG16  265 non-null    object  \n",
      " 2   SA2_NAME16  265 non-null    object  \n",
      " 3   SA3_CODE16  265 non-null    object  \n",
      " 4   SA3_NAME16  265 non-null    object  \n",
      " 5   SA4_CODE16  265 non-null    object  \n",
      " 6   SA4_NAME16  265 non-null    object  \n",
      " 7   GCC_CODE16  265 non-null    object  \n",
      " 8   GCC_NAME16  265 non-null    object  \n",
      " 9   STE_CODE16  265 non-null    object  \n",
      " 10  STE_NAME16  265 non-null    object  \n",
      " 11  AREASQKM16  265 non-null    float64 \n",
      " 12  geometry    265 non-null    geometry\n",
      "dtypes: float64(1), geometry(1), object(11)\n",
      "memory usage: 27.0+ KB\n"
     ]
    }
   ],
   "source": [
    "syd_ucl_sa2.info()"
   ]
  },
  {
   "cell_type": "code",
   "execution_count": 10,
   "metadata": {},
   "outputs": [
    {
     "data": {
      "text/plain": [
       "<matplotlib.axes._subplots.AxesSubplot at 0x16b032fd088>"
      ]
     },
     "execution_count": 10,
     "metadata": {},
     "output_type": "execute_result"
    },
    {
     "data": {
      "image/png": "[encoded data removed]",
      "text/plain": [
       "<Figure size 432x288 with 1 Axes>"
      ]
     },
     "metadata": {
      "needs_background": "light"
     },
     "output_type": "display_data"
    }
   ],
   "source": [
    "# Read in case study areas \n",
    "# let's isolate the sa2s that make up our case study areas of Redfern/Waterloo, Merrickville and Maroubra\n",
    "red_wat_gdf = syd_ucl_sa2[(syd_ucl_sa2.SA2_MAIN16=='117031335')\n",
    "                          |(syd_ucl_sa2.SA2_MAIN16=='117031338')]\n",
    "\n",
    "# now let's create a simple rendition of the df so that we can combine its SA2 boundaries\n",
    "red_wat_simple = red_wat_gdf[['SA2_MAIN16','geometry', \"SA4_NAME16\"]].reset_index()\n",
    "\n",
    "# \"dissolve\" or \"aggregates\" all the polygons that share the same value for the variable we call\n",
    "red_wat_sgdf=red_wat_simple.dissolve(by=\"SA4_NAME16\")\n",
    "red_wat_sgdf.plot()"
   ]
  },
  {
   "cell_type": "code",
   "execution_count": 11,
   "metadata": {
    "scrolled": true
   },
   "outputs": [
    {
     "data": {
      "text/html": [
       "<div>\n",
       "<style scoped>\n",
       "    .dataframe tbody tr th:only-of-type {\n",
       "        vertical-align: middle;\n",
       "    }\n",
       "\n",
       "    .dataframe tbody tr th {\n",
       "        vertical-align: top;\n",
       "    }\n",
       "\n",
       "    .dataframe thead th {\n",
       "        text-align: right;\n",
       "    }\n",
       "</style>\n",
       "<table border=\"1\" class=\"dataframe\">\n",
       "  <thead>\n",
       "    <tr style=\"text-align: right;\">\n",
       "      <th></th>\n",
       "      <th>SA2_MAIN16</th>\n",
       "      <th>SA2_5DIG16</th>\n",
       "      <th>SA2_NAME16</th>\n",
       "      <th>SA3_CODE16</th>\n",
       "      <th>SA3_NAME16</th>\n",
       "      <th>SA4_CODE16</th>\n",
       "      <th>SA4_NAME16</th>\n",
       "      <th>GCC_CODE16</th>\n",
       "      <th>GCC_NAME16</th>\n",
       "      <th>STE_CODE16</th>\n",
       "      <th>STE_NAME16</th>\n",
       "      <th>AREASQKM16</th>\n",
       "      <th>geometry</th>\n",
       "    </tr>\n",
       "  </thead>\n",
       "  <tbody>\n",
       "    <tr>\n",
       "      <th>0</th>\n",
       "      <td>115011290</td>\n",
       "      <td>11290</td>\n",
       "      <td>Baulkham Hills (East)</td>\n",
       "      <td>11501</td>\n",
       "      <td>Baulkham Hills</td>\n",
       "      <td>115</td>\n",
       "      <td>Sydney - Baulkham Hills and Hawkesbury</td>\n",
       "      <td>1GSYD</td>\n",
       "      <td>Greater Sydney</td>\n",
       "      <td>1</td>\n",
       "      <td>New South Wales</td>\n",
       "      <td>8.3081</td>\n",
       "      <td>POLYGON ((150.97069 -33.75928, 150.97071 -33.7...</td>\n",
       "    </tr>\n",
       "    <tr>\n",
       "      <th>1</th>\n",
       "      <td>115011291</td>\n",
       "      <td>11291</td>\n",
       "      <td>Baulkham Hills (West) - Bella Vista</td>\n",
       "      <td>11501</td>\n",
       "      <td>Baulkham Hills</td>\n",
       "      <td>115</td>\n",
       "      <td>Sydney - Baulkham Hills and Hawkesbury</td>\n",
       "      <td>1GSYD</td>\n",
       "      <td>Greater Sydney</td>\n",
       "      <td>1</td>\n",
       "      <td>New South Wales</td>\n",
       "      <td>10.9631</td>\n",
       "      <td>POLYGON ((150.94715 -33.74089, 150.94704 -33.7...</td>\n",
       "    </tr>\n",
       "    <tr>\n",
       "      <th>2</th>\n",
       "      <td>115011294</td>\n",
       "      <td>11294</td>\n",
       "      <td>Glenhaven</td>\n",
       "      <td>11501</td>\n",
       "      <td>Baulkham Hills</td>\n",
       "      <td>115</td>\n",
       "      <td>Sydney - Baulkham Hills and Hawkesbury</td>\n",
       "      <td>1GSYD</td>\n",
       "      <td>Greater Sydney</td>\n",
       "      <td>1</td>\n",
       "      <td>New South Wales</td>\n",
       "      <td>7.2309</td>\n",
       "      <td>POLYGON ((150.98461 -33.70294, 150.98468 -33.7...</td>\n",
       "    </tr>\n",
       "    <tr>\n",
       "      <th>3</th>\n",
       "      <td>115011296</td>\n",
       "      <td>11296</td>\n",
       "      <td>West Pennant Hills</td>\n",
       "      <td>11501</td>\n",
       "      <td>Baulkham Hills</td>\n",
       "      <td>115</td>\n",
       "      <td>Sydney - Baulkham Hills and Hawkesbury</td>\n",
       "      <td>1GSYD</td>\n",
       "      <td>Greater Sydney</td>\n",
       "      <td>1</td>\n",
       "      <td>New South Wales</td>\n",
       "      <td>7.8291</td>\n",
       "      <td>POLYGON ((151.02214 -33.73881, 151.02214 -33.7...</td>\n",
       "    </tr>\n",
       "    <tr>\n",
       "      <th>4</th>\n",
       "      <td>115011553</td>\n",
       "      <td>11553</td>\n",
       "      <td>Castle Hill - Central</td>\n",
       "      <td>11501</td>\n",
       "      <td>Baulkham Hills</td>\n",
       "      <td>115</td>\n",
       "      <td>Sydney - Baulkham Hills and Hawkesbury</td>\n",
       "      <td>1GSYD</td>\n",
       "      <td>Greater Sydney</td>\n",
       "      <td>1</td>\n",
       "      <td>New South Wales</td>\n",
       "      <td>4.1512</td>\n",
       "      <td>POLYGON ((150.97343 -33.73437, 150.97332 -33.7...</td>\n",
       "    </tr>\n",
       "    <tr>\n",
       "      <th>...</th>\n",
       "      <td>...</td>\n",
       "      <td>...</td>\n",
       "      <td>...</td>\n",
       "      <td>...</td>\n",
       "      <td>...</td>\n",
       "      <td>...</td>\n",
       "      <td>...</td>\n",
       "      <td>...</td>\n",
       "      <td>...</td>\n",
       "      <td>...</td>\n",
       "      <td>...</td>\n",
       "      <td>...</td>\n",
       "      <td>...</td>\n",
       "    </tr>\n",
       "    <tr>\n",
       "      <th>260</th>\n",
       "      <td>128021536</td>\n",
       "      <td>11536</td>\n",
       "      <td>Oyster Bay - Como - Jannali</td>\n",
       "      <td>12802</td>\n",
       "      <td>Sutherland - Menai - Heathcote</td>\n",
       "      <td>128</td>\n",
       "      <td>Sydney - Sutherland</td>\n",
       "      <td>1GSYD</td>\n",
       "      <td>Greater Sydney</td>\n",
       "      <td>1</td>\n",
       "      <td>New South Wales</td>\n",
       "      <td>8.9053</td>\n",
       "      <td>POLYGON ((151.06905 -33.99818, 151.06907 -33.9...</td>\n",
       "    </tr>\n",
       "    <tr>\n",
       "      <th>261</th>\n",
       "      <td>128021538</td>\n",
       "      <td>11538</td>\n",
       "      <td>Sutherland - Kirrawee</td>\n",
       "      <td>12802</td>\n",
       "      <td>Sutherland - Menai - Heathcote</td>\n",
       "      <td>128</td>\n",
       "      <td>Sydney - Sutherland</td>\n",
       "      <td>1GSYD</td>\n",
       "      <td>Greater Sydney</td>\n",
       "      <td>1</td>\n",
       "      <td>New South Wales</td>\n",
       "      <td>7.7547</td>\n",
       "      <td>POLYGON ((151.05049 -34.02006, 151.05098 -34.0...</td>\n",
       "    </tr>\n",
       "    <tr>\n",
       "      <th>262</th>\n",
       "      <td>128021607</td>\n",
       "      <td>11607</td>\n",
       "      <td>Engadine</td>\n",
       "      <td>12802</td>\n",
       "      <td>Sutherland - Menai - Heathcote</td>\n",
       "      <td>128</td>\n",
       "      <td>Sydney - Sutherland</td>\n",
       "      <td>1GSYD</td>\n",
       "      <td>Greater Sydney</td>\n",
       "      <td>1</td>\n",
       "      <td>New South Wales</td>\n",
       "      <td>8.9538</td>\n",
       "      <td>POLYGON ((150.99568 -34.05362, 150.99569 -34.0...</td>\n",
       "    </tr>\n",
       "    <tr>\n",
       "      <th>263</th>\n",
       "      <td>128021608</td>\n",
       "      <td>11608</td>\n",
       "      <td>Loftus - Yarrawarrah</td>\n",
       "      <td>12802</td>\n",
       "      <td>Sutherland - Menai - Heathcote</td>\n",
       "      <td>128</td>\n",
       "      <td>Sydney - Sutherland</td>\n",
       "      <td>1GSYD</td>\n",
       "      <td>Greater Sydney</td>\n",
       "      <td>1</td>\n",
       "      <td>New South Wales</td>\n",
       "      <td>3.8436</td>\n",
       "      <td>POLYGON ((151.03954 -34.04176, 151.03954 -34.0...</td>\n",
       "    </tr>\n",
       "    <tr>\n",
       "      <th>264</th>\n",
       "      <td>128021609</td>\n",
       "      <td>11609</td>\n",
       "      <td>Woronora Heights</td>\n",
       "      <td>12802</td>\n",
       "      <td>Sutherland - Menai - Heathcote</td>\n",
       "      <td>128</td>\n",
       "      <td>Sydney - Sutherland</td>\n",
       "      <td>1GSYD</td>\n",
       "      <td>Greater Sydney</td>\n",
       "      <td>1</td>\n",
       "      <td>New South Wales</td>\n",
       "      <td>3.1374</td>\n",
       "      <td>POLYGON ((151.01852 -34.03120, 151.01861 -34.0...</td>\n",
       "    </tr>\n",
       "  </tbody>\n",
       "</table>\n",
       "<p>265 rows × 13 columns</p>\n",
       "</div>"
      ],
      "text/plain": [
       "    SA2_MAIN16 SA2_5DIG16                           SA2_NAME16 SA3_CODE16  \\\n",
       "0    115011290      11290                Baulkham Hills (East)      11501   \n",
       "1    115011291      11291  Baulkham Hills (West) - Bella Vista      11501   \n",
       "2    115011294      11294                            Glenhaven      11501   \n",
       "3    115011296      11296                   West Pennant Hills      11501   \n",
       "4    115011553      11553                Castle Hill - Central      11501   \n",
       "..         ...        ...                                  ...        ...   \n",
       "260  128021536      11536          Oyster Bay - Como - Jannali      12802   \n",
       "261  128021538      11538                Sutherland - Kirrawee      12802   \n",
       "262  128021607      11607                             Engadine      12802   \n",
       "263  128021608      11608                 Loftus - Yarrawarrah      12802   \n",
       "264  128021609      11609                     Woronora Heights      12802   \n",
       "\n",
       "                         SA3_NAME16 SA4_CODE16  \\\n",
       "0                    Baulkham Hills        115   \n",
       "1                    Baulkham Hills        115   \n",
       "2                    Baulkham Hills        115   \n",
       "3                    Baulkham Hills        115   \n",
       "4                    Baulkham Hills        115   \n",
       "..                              ...        ...   \n",
       "260  Sutherland - Menai - Heathcote        128   \n",
       "261  Sutherland - Menai - Heathcote        128   \n",
       "262  Sutherland - Menai - Heathcote        128   \n",
       "263  Sutherland - Menai - Heathcote        128   \n",
       "264  Sutherland - Menai - Heathcote        128   \n",
       "\n",
       "                                 SA4_NAME16 GCC_CODE16      GCC_NAME16  \\\n",
       "0    Sydney - Baulkham Hills and Hawkesbury      1GSYD  Greater Sydney   \n",
       "1    Sydney - Baulkham Hills and Hawkesbury      1GSYD  Greater Sydney   \n",
       "2    Sydney - Baulkham Hills and Hawkesbury      1GSYD  Greater Sydney   \n",
       "3    Sydney - Baulkham Hills and Hawkesbury      1GSYD  Greater Sydney   \n",
       "4    Sydney - Baulkham Hills and Hawkesbury      1GSYD  Greater Sydney   \n",
       "..                                      ...        ...             ...   \n",
       "260                     Sydney - Sutherland      1GSYD  Greater Sydney   \n",
       "261                     Sydney - Sutherland      1GSYD  Greater Sydney   \n",
       "262                     Sydney - Sutherland      1GSYD  Greater Sydney   \n",
       "263                     Sydney - Sutherland      1GSYD  Greater Sydney   \n",
       "264                     Sydney - Sutherland      1GSYD  Greater Sydney   \n",
       "\n",
       "    STE_CODE16       STE_NAME16  AREASQKM16  \\\n",
       "0            1  New South Wales      8.3081   \n",
       "1            1  New South Wales     10.9631   \n",
       "2            1  New South Wales      7.2309   \n",
       "3            1  New South Wales      7.8291   \n",
       "4            1  New South Wales      4.1512   \n",
       "..         ...              ...         ...   \n",
       "260          1  New South Wales      8.9053   \n",
       "261          1  New South Wales      7.7547   \n",
       "262          1  New South Wales      8.9538   \n",
       "263          1  New South Wales      3.8436   \n",
       "264          1  New South Wales      3.1374   \n",
       "\n",
       "                                              geometry  \n",
       "0    POLYGON ((150.97069 -33.75928, 150.97071 -33.7...  \n",
       "1    POLYGON ((150.94715 -33.74089, 150.94704 -33.7...  \n",
       "2    POLYGON ((150.98461 -33.70294, 150.98468 -33.7...  \n",
       "3    POLYGON ((151.02214 -33.73881, 151.02214 -33.7...  \n",
       "4    POLYGON ((150.97343 -33.73437, 150.97332 -33.7...  \n",
       "..                                                 ...  \n",
       "260  POLYGON ((151.06905 -33.99818, 151.06907 -33.9...  \n",
       "261  POLYGON ((151.05049 -34.02006, 151.05098 -34.0...  \n",
       "262  POLYGON ((150.99568 -34.05362, 150.99569 -34.0...  \n",
       "263  POLYGON ((151.03954 -34.04176, 151.03954 -34.0...  \n",
       "264  POLYGON ((151.01852 -34.03120, 151.01861 -34.0...  \n",
       "\n",
       "[265 rows x 13 columns]"
      ]
     },
     "execution_count": 11,
     "metadata": {},
     "output_type": "execute_result"
    }
   ],
   "source": [
    "syd_ucl_sa2"
   ]
  },
  {
   "cell_type": "code",
   "execution_count": 12,
   "metadata": {},
   "outputs": [
    {
     "data": {
      "image/png": "[encoded data removed]",
      "text/plain": [
       "<Figure size 720x504 with 1 Axes>"
      ]
     },
     "metadata": {
      "needs_background": "light"
     },
     "output_type": "display_data"
    }
   ],
   "source": [
    "fig, ax = plt.subplots(figsize=(10, 7))\n",
    "syd_ucl_sa2.plot(ax=ax, color='gray')\n",
    "red_wat_sgdf.plot(ax=ax, color='blue');"
   ]
  },
  {
   "cell_type": "markdown",
   "metadata": {},
   "source": [
    "## Assign tracts to tweets \n",
    "We are interested in two features:\n",
    "\n",
    "   1. Whether or not a tweet is generated from our case study areas.\n",
    "   1. Whether or not a tweet is within 0.5 miles of our case study areas"
   ]
  },
  {
   "cell_type": "markdown",
   "metadata": {},
   "source": [
    "#### First case study area: Redfern/Waterloo"
   ]
  },
  {
   "cell_type": "code",
   "execution_count": 13,
   "metadata": {},
   "outputs": [],
   "source": [
    "# Compute a spatial join between tweets and redfern/waterloo\n",
    "au12_rf_cs = gpd.sjoin(au12, red_wat_sgdf, how='left', op='intersects')\n",
    "au13_rf_cs = gpd.sjoin(au13, red_wat_sgdf, how='left', op='intersects')\n",
    "au14_rf_cs = gpd.sjoin(au14, red_wat_sgdf, how='left', op='intersects')\n",
    "au15_rf_cs = gpd.sjoin(au15, red_wat_sgdf, how='left', op='intersects')\n",
    "au16_rf_cs = gpd.sjoin(au16, red_wat_sgdf, how='left', op='intersects')"
   ]
  },
  {
   "cell_type": "code",
   "execution_count": 14,
   "metadata": {},
   "outputs": [],
   "source": [
    "# If the tweet point lies in the tract geometry, `br_diss` is not null.\n",
    "au12['redwat'] = ~au12_rf_cs['SA2_MAIN16'].isnull()\n",
    "au13['redwat'] = ~au13_rf_cs['SA2_MAIN16'].isnull()\n",
    "au14['redwat'] = ~au13_rf_cs['SA2_MAIN16'].isnull()\n",
    "au15['redwat'] = ~au13_rf_cs['SA2_MAIN16'].isnull()\n",
    "au16['redwat'] = ~au13_rf_cs['SA2_MAIN16'].isnull()"
   ]
  },
  {
   "cell_type": "code",
   "execution_count": 15,
   "metadata": {},
   "outputs": [
    {
     "name": "stdout",
     "output_type": "stream",
     "text": [
      "23654 of 720158 2012 tweets are from Redfern/Waterloo\n",
      "68945 of 2160422 2013 tweets are from Redfern/Waterloo\n",
      "64836 of 2020287 2014 tweets are from Redfern/Waterloo\n",
      "33347 of 1031142 2015 tweets are from Redfern/Waterloo\n",
      "49841 of 1563682 2016 tweets are from Redfern/Waterloo\n"
     ]
    }
   ],
   "source": [
    "print(f\"{au12['redwat'].sum()} of {len(au12)} 2012 tweets are from Redfern/Waterloo\")\n",
    "print(f\"{au13['redwat'].sum()} of {len(au13)} 2013 tweets are from Redfern/Waterloo\")\n",
    "print(f\"{au14['redwat'].sum()} of {len(au14)} 2014 tweets are from Redfern/Waterloo\")\n",
    "print(f\"{au15['redwat'].sum()} of {len(au15)} 2015 tweets are from Redfern/Waterloo\")\n",
    "print(f\"{au16['redwat'].sum()} of {len(au16)} 2016 tweets are from Redfern/Waterloo\")"
   ]
  },
  {
   "cell_type": "markdown",
   "metadata": {},
   "source": [
    "# 2. Capturing distance from Redfern/Waterloo Area\n",
    "\n",
    "Our next objective is to find tweets within 0.5 miles of Redfern/Waterloo. Instead of creating a buffer around Redfern/Waterloo, we can instead create a 0.5 mile buffer around each tweet's location, then find all tweets that overlap with the geometry of Redfern/Waterloo. The leftmost picture below illustrates this approach; we can consider the square to be the geometry of Redfern/Waterloo, and the circle to be the geometry of a single tweet.\n",
    "\n",
    "\n",
    "Each degree of latitude is approximately 69 miles apart. For longitude to miles, at a given latitude, the conversion is as follows [source](https://gis.stackexchange.com/questions/142326/calculating-longitude-length-in-miles):\n",
    "\n",
    "1 degree of longitude = cosine(latitude in decimal) * length of degree (miles) at equator\n",
    "\n",
    "Then we compute:"
   ]
  },
  {
   "cell_type": "code",
   "execution_count": 16,
   "metadata": {},
   "outputs": [
    {
     "data": {
      "text/plain": [
       "-54.96107569491768"
      ]
     },
     "execution_count": 16,
     "metadata": {},
     "output_type": "execute_result"
    }
   ],
   "source": [
    "# -33.9 is roughly the median latitude of Redfern/Waterloo\n",
    "np.cos(-33.905) * 69.172"
   ]
  },
  {
   "cell_type": "markdown",
   "metadata": {},
   "source": [
    "1 degree of latitude is 69 miles, and 1 degree of longitude is 54.9610 miles. This means that 0.5 miles is represented by $\\frac{0.5}{69} \\approx 0.007246$ degrees of latitude and $\\frac{0.5}{54.9610} \\approx 0.009097$ degrees of longitude. A roughly 0.5 mile buffer can be established by creating a buffer of ~0.009 degrees around each tweet."
   ]
  },
  {
   "cell_type": "code",
   "execution_count": 17,
   "metadata": {},
   "outputs": [],
   "source": [
    "BUFFER = 0.009\n",
    "\n",
    "# Build dataframe containing buffer around each tweet\n",
    "au12_buffer, au13_buffer, au14_buffer, au15_buffer, au16_buffer = au12.copy(), au13.copy(), au14.copy(), au15.copy(), au16.copy()\n",
    "au12_buffer['geometry'] = au12_buffer.buffer(BUFFER)\n",
    "au13_buffer['geometry'] = au13_buffer.buffer(BUFFER)\n",
    "au14_buffer['geometry'] = au14_buffer.buffer(BUFFER)\n",
    "au15_buffer['geometry'] = au15_buffer.buffer(BUFFER)\n",
    "au16_buffer['geometry'] = au16_buffer.buffer(BUFFER)"
   ]
  },
  {
   "cell_type": "markdown",
   "metadata": {},
   "source": [
    "### Capturing distance from Redfern/Waterloo"
   ]
  },
  {
   "cell_type": "code",
   "execution_count": 18,
   "metadata": {},
   "outputs": [],
   "source": [
    "# Compute a spatial join between tweets and redfern/waterloo + buffer\n",
    "au12_bufjoin_rw = gpd.sjoin(au12_buffer, red_wat_sgdf, how='left', op='intersects')\n",
    "au13_bufjoin_rw = gpd.sjoin(au13_buffer, red_wat_sgdf, how='left', op='intersects')"
   ]
  },
  {
   "cell_type": "code",
   "execution_count": 19,
   "metadata": {},
   "outputs": [],
   "source": [
    "au14_bufjoin_rw = gpd.sjoin(au14_buffer, red_wat_sgdf, how='left', op='intersects')\n",
    "au15_bufjoin_rw = gpd.sjoin(au15_buffer, red_wat_sgdf, how='left', op='intersects')"
   ]
  },
  {
   "cell_type": "code",
   "execution_count": 20,
   "metadata": {},
   "outputs": [],
   "source": [
    "au16_bufjoin_rw = gpd.sjoin(au16_buffer, red_wat_sgdf, how='left', op='intersects')"
   ]
  },
  {
   "cell_type": "code",
   "execution_count": null,
   "metadata": {},
   "outputs": [],
   "source": [
    "# If the tweet buffer intersects the tract geometry, `br_diss` is not null.\n",
    "au12['buffer'] = ~au12_bufjoin_rw['SA2_MAIN16'].isnull()\n",
    "au13['buffer'] = ~au13_bufjoin_rw['SA2_MAIN16'].isnull()\n",
    "au14['buffer'] = ~au14_bufjoin_rw['SA2_MAIN16'].isnull()\n",
    "au15['buffer'] = ~au15_bufjoin_rw['SA2_MAIN16'].isnull()\n",
    "au16['buffer'] = ~au16_bufjoin_rw['SA2_MAIN16'].isnull()"
   ]
  },
  {
   "cell_type": "code",
   "execution_count": null,
   "metadata": {},
   "outputs": [],
   "source": [
    "# Visualize one expanded tweet (blue), one regular tweet (red):\n",
    "fig, ax = plt.subplots(figsize=(10, 7))\n",
    "syd_ucl_sa2.plot(ax=ax, color='gray')\n",
    "au16_buffer.sample(n=1).plot(ax=ax, color='blue')\n",
    "au13.sample(n=1).plot(ax=ax, color='red');"
   ]
  },
  {
   "cell_type": "code",
   "execution_count": null,
   "metadata": {},
   "outputs": [],
   "source": [
    "print(f\"{(au12['buffer'] & ~au12['redwat']).sum()} of {len(au12)} 2012 tweets are from the buffer\")\n",
    "print(f\"{(au13['buffer'] & ~au13['redwat']).sum()} of {len(au13)} 2013 tweets are from the buffer\")\n",
    "print(f\"{(au14['buffer'] & ~au14['redwat']).sum()} of {len(au14)} 2013 tweets are from the buffer\")\n",
    "print(f\"{(au15['buffer'] & ~au15['redwat']).sum()} of {len(au15)} 2013 tweets are from the buffer\")\n",
    "print(f\"{(au16['buffer'] & ~au16['redwat']).sum()} of {len(au16)} 2013 tweets are from the buffer\")"
   ]
  },
  {
   "cell_type": "markdown",
   "metadata": {},
   "source": [
    "#### Capturing distance for Marrickville"
   ]
  },
  {
   "cell_type": "code",
   "execution_count": null,
   "metadata": {},
   "outputs": [],
   "source": []
  },
  {
   "cell_type": "code",
   "execution_count": null,
   "metadata": {},
   "outputs": [],
   "source": []
  },
  {
   "cell_type": "code",
   "execution_count": null,
   "metadata": {},
   "outputs": [],
   "source": []
  },
  {
   "cell_type": "code",
   "execution_count": null,
   "metadata": {},
   "outputs": [],
   "source": []
  },
  {
   "cell_type": "code",
   "execution_count": null,
   "metadata": {},
   "outputs": [],
   "source": []
  },
  {
   "cell_type": "code",
   "execution_count": null,
   "metadata": {},
   "outputs": [],
   "source": [
    "# # Add hour for future analysis\n",
    "# au12['hour'] = pd.to_datetime(au12['created_at'] // 1000, unit='s').dt.hour\n",
    "# au13['hour'] = pd.to_datetime(au13['created_at'] // 1000, unit='s').dt.hour\n",
    "# au14['hour'] = pd.to_datetime(au14['created_at'] // 1000, unit='s').dt.hour\n",
    "# au15['hour'] = pd.to_datetime(au15['created_at'] // 1000, unit='s').dt.hour\n",
    "# au16['hour'] = pd.to_datetime(au16['created_at'] // 1000, unit='s').dt.hour"
   ]
  },
  {
   "cell_type": "markdown",
   "metadata": {},
   "source": [
    "# Analysis of derogatory words for Aboriginal people frequencies\n",
    "\n",
    "We first observe all tweets (regardless of timestamp). For , to avoid any overlap with other words, we check for two patterns:\n",
    "\n",
    "\n",
    "We also make our analysis case-insensitive."
   ]
  },
  {
   "cell_type": "code",
   "execution_count": null,
   "metadata": {},
   "outputs": [],
   "source": [
    "# All tweets sent from Redfern/Waterloo\n",
    "# print('{} of {} tweets sent from Redfern/Waterloo in 2012 contain \"abo\"'.format(\n",
    "#     *find_frequencies(au12.loc[au12['redwat'], 'text'], r'abo')))\n",
    "\n",
    "# print('{} of {} tweets sent from Redfern/Waterloo in 2012 contain \"abbo \"'.format(\n",
    "#     *find_frequencies(au12.loc[au12['redwat'], 'text'], r'abbo')))\n",
    "\n",
    "# print('{} of {} tweets sent from Redfern/Waterloo in 2012 contain \"boong\"'.format(\n",
    "#     *find_frequencies(au12.loc[au12['redwat'], 'text'], r'boong')))\n",
    "\n",
    "# print('{} of {} tweets sent from Redfern/Waterloo in 2012 contain \"bung \"'.format(\n",
    "#     *find_frequencies(au12.loc[au12['redwat'], 'text'], r'bung')))\n",
    "\n",
    "# print('{} of {} tweets sent from Redfern/Waterloo in 2012 contain \"coon \"'.format(\n",
    "#     *find_frequencies(au12.loc[au12['redwat'], 'text'], r'coon')))\n",
    "\n",
    "# print('{} of {} tweets sent from Redfern/Waterloo in 2012 contain \"lubra\"'.format(\n",
    "#     *find_frequencies(au12.loc[au12['redwat'], 'text'], r'lubra')))\n",
    "\n",
    "# print('{} of {} tweets sent from Redfern/Waterloo in 2012 contain \"gin \"'.format(\n",
    "#     *find_frequencies(au12.loc[au12['redwat'], 'text'], r'gin')))\n",
    "\n"
   ]
  },
  {
   "cell_type": "code",
   "execution_count": null,
   "metadata": {},
   "outputs": [],
   "source": [
    "print('{} of {} tweets sent from Redfern/Waterloo in 2012 contain \"Redfern\"'.format(\n",
    "    *find_frequencies(au12.loc[au12['redwat'], 'text'], r'redfern')))\n",
    "\n",
    "print('{} of {} tweets sent from Redfern/Waterloo in 2012 contain \"Waterloo\"'.format(\n",
    "    *find_frequencies(au12.loc[au12['redwat'], 'text'], r'waterloo')))"
   ]
  }
 ],
 "metadata": {
  "kernelspec": {
   "display_name": "Python 3",
   "language": "python",
   "name": "python3"
  },
  "language_info": {
   "codemirror_mode": {
    "name": "ipython",
    "version": 3
   },
   "file_extension": ".py",
   "mimetype": "text/x-python",
   "name": "python",
   "nbconvert_exporter": "python",
   "pygments_lexer": "ipython3",
   "version": "3.7.6"
  }
 },
 "nbformat": 4,
 "nbformat_minor": 4
}
